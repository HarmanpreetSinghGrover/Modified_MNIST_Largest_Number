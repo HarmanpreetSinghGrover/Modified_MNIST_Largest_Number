{
  "nbformat": 4,
  "nbformat_minor": 0,
  "metadata": {
    "colab": {
      "name": "Stacking.ipynb",
      "provenance": [],
      "collapsed_sections": []
    },
    "kernelspec": {
      "name": "python3",
      "display_name": "Python 3"
    },
    "accelerator": "GPU"
  },
  "cells": [
    {
      "cell_type": "code",
      "metadata": {
        "id": "KaLfN2wibbcJ",
        "colab_type": "code",
        "outputId": "416ab9fd-5543-4123-a164-a883c89283cc",
        "colab": {
          "base_uri": "https://localhost:8080/",
          "height": 583
        }
      },
      "source": [
        "# Testing GPU\n",
        "from tensorflow.python.client import device_lib\n",
        "print(device_lib.list_local_devices())"
      ],
      "execution_count": 0,
      "outputs": [
        {
          "output_type": "display_data",
          "data": {
            "text/html": [
              "<p style=\"color: red;\">\n",
              "The default version of TensorFlow in Colab will soon switch to TensorFlow 2.x.<br>\n",
              "We recommend you <a href=\"https://www.tensorflow.org/guide/migrate\" target=\"_blank\">upgrade</a> now \n",
              "or ensure your notebook will continue to use TensorFlow 1.x via the <code>%tensorflow_version 1.x</code> magic:\n",
              "<a href=\"https://colab.research.google.com/notebooks/tensorflow_version.ipynb\" target=\"_blank\">more info</a>.</p>\n"
            ],
            "text/plain": [
              "<IPython.core.display.HTML object>"
            ]
          },
          "metadata": {
            "tags": []
          }
        },
        {
          "output_type": "stream",
          "text": [
            "[name: \"/device:CPU:0\"\n",
            "device_type: \"CPU\"\n",
            "memory_limit: 268435456\n",
            "locality {\n",
            "}\n",
            "incarnation: 12246223215479498568\n",
            ", name: \"/device:XLA_CPU:0\"\n",
            "device_type: \"XLA_CPU\"\n",
            "memory_limit: 17179869184\n",
            "locality {\n",
            "}\n",
            "incarnation: 6627290954954079748\n",
            "physical_device_desc: \"device: XLA_CPU device\"\n",
            ", name: \"/device:XLA_GPU:0\"\n",
            "device_type: \"XLA_GPU\"\n",
            "memory_limit: 17179869184\n",
            "locality {\n",
            "}\n",
            "incarnation: 5202868545103632765\n",
            "physical_device_desc: \"device: XLA_GPU device\"\n",
            ", name: \"/device:GPU:0\"\n",
            "device_type: \"GPU\"\n",
            "memory_limit: 11330115994\n",
            "locality {\n",
            "  bus_id: 1\n",
            "  links {\n",
            "  }\n",
            "}\n",
            "incarnation: 2108973114249173841\n",
            "physical_device_desc: \"device: 0, name: Tesla K80, pci bus id: 0000:00:04.0, compute capability: 3.7\"\n",
            "]\n"
          ],
          "name": "stdout"
        }
      ]
    },
    {
      "cell_type": "code",
      "metadata": {
        "id": "mQoZJyyYMcXZ",
        "colab_type": "code",
        "colab": {}
      },
      "source": [
        ""
      ],
      "execution_count": 0,
      "outputs": []
    },
    {
      "cell_type": "code",
      "metadata": {
        "id": "kAI4-I9kbqPP",
        "colab_type": "code",
        "outputId": "1a8fdde2-23fd-4898-8e2a-5cbd48c628b6",
        "colab": {
          "base_uri": "https://localhost:8080/",
          "height": 101
        }
      },
      "source": [
        "import pandas as pd\n",
        "import numpy as np\n",
        "from numpy import dstack\n",
        "from sklearn.datasets.samples_generator import make_blobs\n",
        "from sklearn.metrics import accuracy_score\n",
        "from sklearn.linear_model import LogisticRegression\n",
        "s1 = pd.read_pickle('pred_probability_xCEPTION.pkl')\n",
        "s2 = pd.read_pickle('pred_probability_inception.pkl')\n",
        "s3 = pd.read_pickle('pred_probability_resnet.pkl')\n",
        "s4 = pd.read_pickle('pred_probability_vgg19.pkl')\n",
        "s = [s2, s3, s4]\n",
        "\n",
        "for x in s:\n",
        "  x = x.astype('float32')\n",
        "  print(x.shape)\n",
        "st = s1\n",
        "st = dstack((st,s2))\n",
        "st = dstack((st,s3))\n",
        "st = dstack((st,s4))\n",
        "#st = dstack((st,s4))\n",
        "print(st.shape)\n",
        "\n",
        "t1 = pd.read_pickle('train_probability_xCEPTION.pkl')\n",
        "t2 = pd.read_pickle('train_probability_inception.pkl')\n",
        "t3 = pd.read_pickle('train_probability_resnet.pkl')\n",
        "t4 = pd.read_pickle('train_probability_vgg19.pkl')\n",
        "\n",
        "t = [t2, t3, t4]\n",
        "tr = t1\n",
        "tr = dstack((tr,t2))\n",
        "tr = dstack((tr,t3))\n",
        "tr = dstack((tr,t4))\n",
        "print(tr.shape)"
      ],
      "execution_count": 0,
      "outputs": [
        {
          "output_type": "stream",
          "text": [
            "(10000, 10)\n",
            "(10000, 10)\n",
            "(10000, 10)\n",
            "(10000, 10, 4)\n",
            "(50000, 10, 4)\n"
          ],
          "name": "stdout"
        }
      ]
    },
    {
      "cell_type": "code",
      "metadata": {
        "id": "r7F1cdwWbrAF",
        "colab_type": "code",
        "outputId": "949eb8b3-b69b-4e96-b059-ac0724e38c15",
        "colab": {
          "base_uri": "https://localhost:8080/",
          "height": 50
        }
      },
      "source": [
        "st = st.reshape((st.shape[0], st.shape[1]*st.shape[2]))\n",
        "print(st.shape)\n",
        "\n",
        "tr = tr.reshape((tr.shape[0], tr.shape[1]*tr.shape[2]))\n",
        "print(tr.shape)\n",
        " "
      ],
      "execution_count": 0,
      "outputs": [
        {
          "output_type": "stream",
          "text": [
            "(10000, 40)\n",
            "(50000, 40)\n"
          ],
          "name": "stdout"
        }
      ]
    },
    {
      "cell_type": "code",
      "metadata": {
        "id": "JITOw6DFbrU-",
        "colab_type": "code",
        "outputId": "cb9ac2d7-a547-402f-9aad-b12538bfe698",
        "colab": {
          "base_uri": "https://localhost:8080/",
          "height": 134
        }
      },
      "source": [
        "from xgboost import XGBClassifier\n",
        "model = XGBClassifier()\n",
        "df = pd.read_csv('train_max_y.csv')\n",
        "labels = df.iloc[:,1]\n",
        "model.fit(tr,labels)"
      ],
      "execution_count": 0,
      "outputs": [
        {
          "output_type": "execute_result",
          "data": {
            "text/plain": [
              "XGBClassifier(base_score=0.5, booster='gbtree', colsample_bylevel=1,\n",
              "              colsample_bynode=1, colsample_bytree=1, gamma=0,\n",
              "              learning_rate=0.1, max_delta_step=0, max_depth=3,\n",
              "              min_child_weight=1, missing=None, n_estimators=100, n_jobs=1,\n",
              "              nthread=None, objective='multi:softprob', random_state=0,\n",
              "              reg_alpha=0, reg_lambda=1, scale_pos_weight=1, seed=None,\n",
              "              silent=None, subsample=1, verbosity=1)"
            ]
          },
          "metadata": {
            "tags": []
          },
          "execution_count": 19
        }
      ]
    },
    {
      "cell_type": "code",
      "metadata": {
        "id": "jHCut6-fbrod",
        "colab_type": "code",
        "outputId": "a2e4f94c-58ad-4833-dd77-b3b75dbcea97",
        "colab": {
          "base_uri": "https://localhost:8080/",
          "height": 34
        }
      },
      "source": [
        "y_pred = model.predict(st)\n",
        "print(y_pred)"
      ],
      "execution_count": 0,
      "outputs": [
        {
          "output_type": "stream",
          "text": [
            "[9 6 4 ... 7 6 8]\n"
          ],
          "name": "stdout"
        }
      ]
    },
    {
      "cell_type": "code",
      "metadata": {
        "id": "NduRkoxxbr4U",
        "colab_type": "code",
        "outputId": "ccceebd9-7e67-4d30-a8b3-4055a6ef02a3",
        "colab": {
          "base_uri": "https://localhost:8080/",
          "height": 370
        }
      },
      "source": [
        "pred_class = np.argmax(y_pred, axis=1)\n",
        "test_preds = pd.DataFrame()\n",
        "test_preds['Id'] = range(10000)\n",
        "test_preds['Label'] = pred_class\n",
        "print(test_preds.head(20))"
      ],
      "execution_count": 0,
      "outputs": [
        {
          "output_type": "stream",
          "text": [
            "    Id  Label\n",
            "0    0      9\n",
            "1    1      6\n",
            "2    2      4\n",
            "3    3      9\n",
            "4    4      5\n",
            "5    5      8\n",
            "6    6      2\n",
            "7    7      4\n",
            "8    8      6\n",
            "9    9      8\n",
            "10  10      4\n",
            "11  11      9\n",
            "12  12      8\n",
            "13  13      9\n",
            "14  14      9\n",
            "15  15      6\n",
            "16  16      8\n",
            "17  17      7\n",
            "18  18      4\n",
            "19  19      6\n"
          ],
          "name": "stdout"
        }
      ]
    },
    {
      "cell_type": "code",
      "metadata": {
        "id": "w5O_1bBKbsJx",
        "colab_type": "code",
        "colab": {}
      },
      "source": [
        "test_preds.to_csv(\"test-s3.csv\", index=False)\n",
        "from google.colab import files\n",
        "\n",
        "files.download(\"test-s3.csv\")\n"
      ],
      "execution_count": 0,
      "outputs": []
    },
    {
      "cell_type": "code",
      "metadata": {
        "id": "MNV5eerzbs1Q",
        "colab_type": "code",
        "outputId": "a34d81da-b6fa-4b2c-ca24-bcdaf0f65469",
        "colab": {
          "base_uri": "https://localhost:8080/",
          "height": 1000
        }
      },
      "source": [
        "import lightgbm as lgb\n",
        "params = {\n",
        " 'task': 'train'\n",
        " , 'boosting_type': 'gbdt'\n",
        " , 'objective': 'multiclass'\n",
        " , 'num_class': 10\n",
        " , 'metric': 'multi_logloss'\n",
        " , 'min_data': 1\n",
        " , 'verbose': -1\n",
        "}\n",
        "\n",
        "lgb_train = lgb.Dataset(tr[:40000,:], labels[:40000])\n",
        "lgb_eval = lgb.Dataset(tr[40000:,:], labels[40000:], reference=lgb_train)\n",
        "gbm = lgb.train(params,\n",
        "                lgb_train,\n",
        "                num_boost_round=100,\n",
        "                valid_sets=lgb_eval,\n",
        "                early_stopping_rounds=5)\n",
        "\n",
        "y_pred = gbm.predict(tr[:40000], num_iteration=gbm.best_iteration)\n",
        "print('train_acc: ', np.mean(np.argmax(y_pred, axis=1)==labels[:40000]))\n",
        "y_pred = gbm.predict(tr[40000:], num_iteration=gbm.best_iteration)\n",
        "print('test_acc: ', np.mean(np.argmax(y_pred, axis=1)==labels[40000:]))\n",
        "\n",
        "y_pred = gbm.predict(st, num_iteration=gbm.best_iteration)"
      ],
      "execution_count": 0,
      "outputs": [
        {
          "output_type": "stream",
          "text": [
            "[1]\tvalid_0's multi_logloss: 1.45581\n",
            "Training until validation scores don't improve for 5 rounds.\n",
            "[2]\tvalid_0's multi_logloss: 1.24334\n",
            "[3]\tvalid_0's multi_logloss: 1.07982\n",
            "[4]\tvalid_0's multi_logloss: 0.94714\n",
            "[5]\tvalid_0's multi_logloss: 0.836277\n",
            "[6]\tvalid_0's multi_logloss: 0.741918\n",
            "[7]\tvalid_0's multi_logloss: 0.660557\n",
            "[8]\tvalid_0's multi_logloss: 0.589742\n",
            "[9]\tvalid_0's multi_logloss: 0.527677\n",
            "[10]\tvalid_0's multi_logloss: 0.472984\n",
            "[11]\tvalid_0's multi_logloss: 0.424583\n",
            "[12]\tvalid_0's multi_logloss: 0.381603\n",
            "[13]\tvalid_0's multi_logloss: 0.343334\n",
            "[14]\tvalid_0's multi_logloss: 0.309181\n",
            "[15]\tvalid_0's multi_logloss: 0.278643\n",
            "[16]\tvalid_0's multi_logloss: 0.251298\n",
            "[17]\tvalid_0's multi_logloss: 0.226777\n",
            "[18]\tvalid_0's multi_logloss: 0.204762\n",
            "[19]\tvalid_0's multi_logloss: 0.184979\n",
            "[20]\tvalid_0's multi_logloss: 0.167188\n",
            "[21]\tvalid_0's multi_logloss: 0.151178\n",
            "[22]\tvalid_0's multi_logloss: 0.136761\n",
            "[23]\tvalid_0's multi_logloss: 0.123772\n",
            "[24]\tvalid_0's multi_logloss: 0.112065\n",
            "[25]\tvalid_0's multi_logloss: 0.101475\n",
            "[26]\tvalid_0's multi_logloss: 0.0919203\n",
            "[27]\tvalid_0's multi_logloss: 0.0832962\n",
            "[28]\tvalid_0's multi_logloss: 0.0755102\n",
            "[29]\tvalid_0's multi_logloss: 0.0684791\n",
            "[30]\tvalid_0's multi_logloss: 0.0621284\n",
            "[31]\tvalid_0's multi_logloss: 0.056391\n",
            "[32]\tvalid_0's multi_logloss: 0.0511979\n",
            "[33]\tvalid_0's multi_logloss: 0.0465041\n",
            "[34]\tvalid_0's multi_logloss: 0.0422611\n",
            "[35]\tvalid_0's multi_logloss: 0.038425\n",
            "[36]\tvalid_0's multi_logloss: 0.0349564\n",
            "[37]\tvalid_0's multi_logloss: 0.0318198\n",
            "[38]\tvalid_0's multi_logloss: 0.0289831\n",
            "[39]\tvalid_0's multi_logloss: 0.0264174\n",
            "[40]\tvalid_0's multi_logloss: 0.0240966\n",
            "[41]\tvalid_0's multi_logloss: 0.0219974\n",
            "[42]\tvalid_0's multi_logloss: 0.0200983\n",
            "[43]\tvalid_0's multi_logloss: 0.0183803\n",
            "[44]\tvalid_0's multi_logloss: 0.0168259\n",
            "[45]\tvalid_0's multi_logloss: 0.0154195\n",
            "[46]\tvalid_0's multi_logloss: 0.0141474\n",
            "[47]\tvalid_0's multi_logloss: 0.0129959\n",
            "[48]\tvalid_0's multi_logloss: 0.0119543\n",
            "[49]\tvalid_0's multi_logloss: 0.0110115\n",
            "[50]\tvalid_0's multi_logloss: 0.0101585\n",
            "[51]\tvalid_0's multi_logloss: 0.00938639\n",
            "[52]\tvalid_0's multi_logloss: 0.00868788\n",
            "[53]\tvalid_0's multi_logloss: 0.00805554\n",
            "[54]\tvalid_0's multi_logloss: 0.00748346\n",
            "[55]\tvalid_0's multi_logloss: 0.00696559\n",
            "[56]\tvalid_0's multi_logloss: 0.00649705\n",
            "[57]\tvalid_0's multi_logloss: 0.00607294\n",
            "[58]\tvalid_0's multi_logloss: 0.00567594\n",
            "[59]\tvalid_0's multi_logloss: 0.00531574\n",
            "[60]\tvalid_0's multi_logloss: 0.00498893\n",
            "[61]\tvalid_0's multi_logloss: 0.00469239\n",
            "[62]\tvalid_0's multi_logloss: 0.00442323\n",
            "[63]\tvalid_0's multi_logloss: 0.004179\n",
            "[64]\tvalid_0's multi_logloss: 0.0039572\n",
            "[65]\tvalid_0's multi_logloss: 0.00376475\n",
            "[66]\tvalid_0's multi_logloss: 0.00359013\n",
            "[67]\tvalid_0's multi_logloss: 0.00343332\n",
            "[68]\tvalid_0's multi_logloss: 0.00328968\n",
            "[69]\tvalid_0's multi_logloss: 0.00318001\n",
            "[70]\tvalid_0's multi_logloss: 0.00308312\n",
            "[71]\tvalid_0's multi_logloss: 0.00299295\n",
            "[72]\tvalid_0's multi_logloss: 0.00291079\n",
            "[73]\tvalid_0's multi_logloss: 0.00283042\n",
            "[74]\tvalid_0's multi_logloss: 0.00276038\n",
            "[75]\tvalid_0's multi_logloss: 0.00268946\n",
            "[76]\tvalid_0's multi_logloss: 0.00262194\n",
            "[77]\tvalid_0's multi_logloss: 0.00256016\n",
            "[78]\tvalid_0's multi_logloss: 0.00251046\n",
            "[79]\tvalid_0's multi_logloss: 0.0024646\n",
            "[80]\tvalid_0's multi_logloss: 0.00241965\n",
            "[81]\tvalid_0's multi_logloss: 0.00238164\n",
            "[82]\tvalid_0's multi_logloss: 0.00234654\n",
            "[83]\tvalid_0's multi_logloss: 0.0023081\n",
            "[84]\tvalid_0's multi_logloss: 0.00226764\n",
            "[85]\tvalid_0's multi_logloss: 0.00222331\n",
            "[86]\tvalid_0's multi_logloss: 0.00217652\n",
            "[87]\tvalid_0's multi_logloss: 0.00213754\n",
            "[88]\tvalid_0's multi_logloss: 0.00209583\n",
            "[89]\tvalid_0's multi_logloss: 0.00204235\n",
            "[90]\tvalid_0's multi_logloss: 0.00200098\n",
            "[91]\tvalid_0's multi_logloss: 0.0019537\n",
            "[92]\tvalid_0's multi_logloss: 0.00190812\n",
            "[93]\tvalid_0's multi_logloss: 0.00189064\n",
            "[94]\tvalid_0's multi_logloss: 0.00185457\n",
            "[95]\tvalid_0's multi_logloss: 0.00180966\n",
            "[96]\tvalid_0's multi_logloss: 0.00178249\n",
            "[97]\tvalid_0's multi_logloss: 0.00174196\n",
            "[98]\tvalid_0's multi_logloss: 0.00172665\n",
            "[99]\tvalid_0's multi_logloss: 0.00168733\n",
            "[100]\tvalid_0's multi_logloss: 0.00166007\n",
            "Did not meet early stopping. Best iteration is:\n",
            "[100]\tvalid_0's multi_logloss: 0.00166007\n",
            "train_acc:  1.0\n",
            "test_acc:  0.9995\n"
          ],
          "name": "stdout"
        }
      ]
    }
  ]
}