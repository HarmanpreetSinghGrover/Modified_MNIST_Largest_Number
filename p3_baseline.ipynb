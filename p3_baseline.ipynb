{
  "nbformat": 4,
  "nbformat_minor": 0,
  "metadata": {
    "colab": {
      "name": "p3_baseline.ipynb",
      "provenance": [],
      "collapsed_sections": [],
      "machine_shape": "hm"
    },
    "kernelspec": {
      "name": "python3",
      "display_name": "Python 3"
    },
    "accelerator": "GPU"
  },
  "cells": [
    {
      "cell_type": "code",
      "metadata": {
        "id": "dbi9325kAwY3",
        "colab_type": "code",
        "outputId": "b634ad4b-bd74-4c72-b269-4421de9c3961",
        "colab": {
          "base_uri": "https://localhost:8080/",
          "height": 544
        }
      },
      "source": [
        "# Testing GPU\n",
        "from tensorflow.python.client import device_lib\n",
        "print(device_lib.list_local_devices())"
      ],
      "execution_count": 4,
      "outputs": [
        {
          "output_type": "stream",
          "text": [
            "[name: \"/device:CPU:0\"\n",
            "device_type: \"CPU\"\n",
            "memory_limit: 268435456\n",
            "locality {\n",
            "}\n",
            "incarnation: 6294352049062816708\n",
            ", name: \"/device:XLA_CPU:0\"\n",
            "device_type: \"XLA_CPU\"\n",
            "memory_limit: 17179869184\n",
            "locality {\n",
            "}\n",
            "incarnation: 16976005310613339893\n",
            "physical_device_desc: \"device: XLA_CPU device\"\n",
            ", name: \"/device:XLA_GPU:0\"\n",
            "device_type: \"XLA_GPU\"\n",
            "memory_limit: 17179869184\n",
            "locality {\n",
            "}\n",
            "incarnation: 5739991024350893745\n",
            "physical_device_desc: \"device: XLA_GPU device\"\n",
            ", name: \"/device:GPU:0\"\n",
            "device_type: \"GPU\"\n",
            "memory_limit: 11330115994\n",
            "locality {\n",
            "  bus_id: 1\n",
            "  links {\n",
            "  }\n",
            "}\n",
            "incarnation: 5186899666220669068\n",
            "physical_device_desc: \"device: 0, name: Tesla K80, pci bus id: 0000:00:04.0, compute capability: 3.7\"\n",
            "]\n"
          ],
          "name": "stdout"
        }
      ]
    },
    {
      "cell_type": "code",
      "metadata": {
        "id": "A43jIfqFU8b2",
        "colab_type": "code",
        "outputId": "ff615abf-0acd-4168-d208-b4cb79c23c16",
        "colab": {
          "base_uri": "https://localhost:8080/",
          "height": 51
        }
      },
      "source": [
        "# Upload Compressed data and then to extract run this cell\n",
        "!unzip /content/train_max_x.zip"
      ],
      "execution_count": 5,
      "outputs": [
        {
          "output_type": "stream",
          "text": [
            "Archive:  /content/train_max_x.zip\n",
            "  inflating: train_max_x             \n"
          ],
          "name": "stdout"
        }
      ]
    },
    {
      "cell_type": "code",
      "metadata": {
        "id": "z1Zs0YPjO6pJ",
        "colab_type": "code",
        "outputId": "6490c60f-46ba-4a82-9a86-3830d1672537",
        "colab": {
          "base_uri": "https://localhost:8080/",
          "height": 752
        }
      },
      "source": [
        "!pip install tensorflow==1.13.1"
      ],
      "execution_count": 0,
      "outputs": [
        {
          "output_type": "stream",
          "text": [
            "Collecting tensorflow==1.13.1\n",
            "\u001b[?25l  Downloading https://files.pythonhosted.org/packages/77/63/a9fa76de8dffe7455304c4ed635be4aa9c0bacef6e0633d87d5f54530c5c/tensorflow-1.13.1-cp36-cp36m-manylinux1_x86_64.whl (92.5MB)\n",
            "\u001b[K     |████████████████████████████████| 92.5MB 84kB/s \n",
            "\u001b[?25hRequirement already satisfied: absl-py>=0.1.6 in /usr/local/lib/python3.6/dist-packages (from tensorflow==1.13.1) (0.8.1)\n",
            "Requirement already satisfied: gast>=0.2.0 in /usr/local/lib/python3.6/dist-packages (from tensorflow==1.13.1) (0.2.2)\n",
            "Requirement already satisfied: astor>=0.6.0 in /usr/local/lib/python3.6/dist-packages (from tensorflow==1.13.1) (0.8.0)\n",
            "Requirement already satisfied: six>=1.10.0 in /usr/local/lib/python3.6/dist-packages (from tensorflow==1.13.1) (1.12.0)\n",
            "Requirement already satisfied: grpcio>=1.8.6 in /usr/local/lib/python3.6/dist-packages (from tensorflow==1.13.1) (1.15.0)\n",
            "Requirement already satisfied: protobuf>=3.6.1 in /usr/local/lib/python3.6/dist-packages (from tensorflow==1.13.1) (3.10.0)\n",
            "Requirement already satisfied: numpy>=1.13.3 in /usr/local/lib/python3.6/dist-packages (from tensorflow==1.13.1) (1.17.3)\n",
            "Requirement already satisfied: keras-applications>=1.0.6 in /usr/local/lib/python3.6/dist-packages (from tensorflow==1.13.1) (1.0.8)\n",
            "Requirement already satisfied: wheel>=0.26 in /usr/local/lib/python3.6/dist-packages (from tensorflow==1.13.1) (0.33.6)\n",
            "Collecting tensorboard<1.14.0,>=1.13.0\n",
            "\u001b[?25l  Downloading https://files.pythonhosted.org/packages/0f/39/bdd75b08a6fba41f098b6cb091b9e8c7a80e1b4d679a581a0ccd17b10373/tensorboard-1.13.1-py3-none-any.whl (3.2MB)\n",
            "\u001b[K     |████████████████████████████████| 3.2MB 43.9MB/s \n",
            "\u001b[?25hRequirement already satisfied: termcolor>=1.1.0 in /usr/local/lib/python3.6/dist-packages (from tensorflow==1.13.1) (1.1.0)\n",
            "Requirement already satisfied: keras-preprocessing>=1.0.5 in /usr/local/lib/python3.6/dist-packages (from tensorflow==1.13.1) (1.1.0)\n",
            "Collecting tensorflow-estimator<1.14.0rc0,>=1.13.0\n",
            "\u001b[?25l  Downloading https://files.pythonhosted.org/packages/bb/48/13f49fc3fa0fdf916aa1419013bb8f2ad09674c275b4046d5ee669a46873/tensorflow_estimator-1.13.0-py2.py3-none-any.whl (367kB)\n",
            "\u001b[K     |████████████████████████████████| 368kB 43.9MB/s \n",
            "\u001b[?25hRequirement already satisfied: setuptools in /usr/local/lib/python3.6/dist-packages (from protobuf>=3.6.1->tensorflow==1.13.1) (41.4.0)\n",
            "Requirement already satisfied: h5py in /usr/local/lib/python3.6/dist-packages (from keras-applications>=1.0.6->tensorflow==1.13.1) (2.8.0)\n",
            "Requirement already satisfied: markdown>=2.6.8 in /usr/local/lib/python3.6/dist-packages (from tensorboard<1.14.0,>=1.13.0->tensorflow==1.13.1) (3.1.1)\n",
            "Requirement already satisfied: werkzeug>=0.11.15 in /usr/local/lib/python3.6/dist-packages (from tensorboard<1.14.0,>=1.13.0->tensorflow==1.13.1) (0.16.0)\n",
            "Collecting mock>=2.0.0\n",
            "  Downloading https://files.pythonhosted.org/packages/05/d2/f94e68be6b17f46d2c353564da56e6fb89ef09faeeff3313a046cb810ca9/mock-3.0.5-py2.py3-none-any.whl\n",
            "Installing collected packages: tensorboard, mock, tensorflow-estimator, tensorflow\n",
            "  Found existing installation: tensorboard 1.15.0\n",
            "    Uninstalling tensorboard-1.15.0:\n",
            "      Successfully uninstalled tensorboard-1.15.0\n",
            "  Found existing installation: tensorflow-estimator 1.15.1\n",
            "    Uninstalling tensorflow-estimator-1.15.1:\n",
            "      Successfully uninstalled tensorflow-estimator-1.15.1\n",
            "  Found existing installation: tensorflow 1.15.0\n",
            "    Uninstalling tensorflow-1.15.0:\n",
            "      Successfully uninstalled tensorflow-1.15.0\n",
            "Successfully installed mock-3.0.5 tensorboard-1.13.1 tensorflow-1.13.1 tensorflow-estimator-1.13.0\n"
          ],
          "name": "stdout"
        },
        {
          "output_type": "display_data",
          "data": {
            "application/vnd.colab-display-data+json": {
              "pip_warning": {
                "packages": [
                  "tensorboard",
                  "tensorflow",
                  "tensorflow_estimator"
                ]
              }
            }
          },
          "metadata": {
            "tags": []
          }
        }
      ]
    },
    {
      "cell_type": "code",
      "metadata": {
        "id": "sPIbYkkLP0T9",
        "colab_type": "code",
        "outputId": "6734c487-bef7-4aeb-d0bb-582fdbba2a29",
        "colab": {
          "base_uri": "https://localhost:8080/",
          "height": 292
        }
      },
      "source": [
        "!pip install keras==2.2.4\n"
      ],
      "execution_count": 0,
      "outputs": [
        {
          "output_type": "stream",
          "text": [
            "Collecting keras==2.2.4\n",
            "\u001b[?25l  Downloading https://files.pythonhosted.org/packages/5e/10/aa32dad071ce52b5502266b5c659451cfd6ffcbf14e6c8c4f16c0ff5aaab/Keras-2.2.4-py2.py3-none-any.whl (312kB)\n",
            "\r\u001b[K     |█                               | 10kB 20.8MB/s eta 0:00:01\r\u001b[K     |██                              | 20kB 1.8MB/s eta 0:00:01\r\u001b[K     |███▏                            | 30kB 2.6MB/s eta 0:00:01\r\u001b[K     |████▏                           | 40kB 1.7MB/s eta 0:00:01\r\u001b[K     |█████▎                          | 51kB 2.1MB/s eta 0:00:01\r\u001b[K     |██████▎                         | 61kB 2.5MB/s eta 0:00:01\r\u001b[K     |███████▍                        | 71kB 2.9MB/s eta 0:00:01\r\u001b[K     |████████▍                       | 81kB 3.2MB/s eta 0:00:01\r\u001b[K     |█████████▍                      | 92kB 3.6MB/s eta 0:00:01\r\u001b[K     |██████████▌                     | 102kB 2.8MB/s eta 0:00:01\r\u001b[K     |███████████▌                    | 112kB 2.8MB/s eta 0:00:01\r\u001b[K     |████████████▋                   | 122kB 2.8MB/s eta 0:00:01\r\u001b[K     |█████████████▋                  | 133kB 2.8MB/s eta 0:00:01\r\u001b[K     |██████████████▊                 | 143kB 2.8MB/s eta 0:00:01\r\u001b[K     |███████████████▊                | 153kB 2.8MB/s eta 0:00:01\r\u001b[K     |████████████████▊               | 163kB 2.8MB/s eta 0:00:01\r\u001b[K     |█████████████████▉              | 174kB 2.8MB/s eta 0:00:01\r\u001b[K     |██████████████████▉             | 184kB 2.8MB/s eta 0:00:01\r\u001b[K     |████████████████████            | 194kB 2.8MB/s eta 0:00:01\r\u001b[K     |█████████████████████           | 204kB 2.8MB/s eta 0:00:01\r\u001b[K     |██████████████████████          | 215kB 2.8MB/s eta 0:00:01\r\u001b[K     |███████████████████████         | 225kB 2.8MB/s eta 0:00:01\r\u001b[K     |████████████████████████▏       | 235kB 2.8MB/s eta 0:00:01\r\u001b[K     |█████████████████████████▏      | 245kB 2.8MB/s eta 0:00:01\r\u001b[K     |██████████████████████████▏     | 256kB 2.8MB/s eta 0:00:01\r\u001b[K     |███████████████████████████▎    | 266kB 2.8MB/s eta 0:00:01\r\u001b[K     |████████████████████████████▎   | 276kB 2.8MB/s eta 0:00:01\r\u001b[K     |█████████████████████████████▍  | 286kB 2.8MB/s eta 0:00:01\r\u001b[K     |██████████████████████████████▍ | 296kB 2.8MB/s eta 0:00:01\r\u001b[K     |███████████████████████████████▌| 307kB 2.8MB/s eta 0:00:01\r\u001b[K     |████████████████████████████████| 317kB 2.8MB/s \n",
            "\u001b[?25hRequirement already satisfied: h5py in /usr/local/lib/python3.6/dist-packages (from keras==2.2.4) (2.8.0)\n",
            "Requirement already satisfied: scipy>=0.14 in /usr/local/lib/python3.6/dist-packages (from keras==2.2.4) (1.3.1)\n",
            "Requirement already satisfied: six>=1.9.0 in /usr/local/lib/python3.6/dist-packages (from keras==2.2.4) (1.12.0)\n",
            "Requirement already satisfied: keras-preprocessing>=1.0.5 in /usr/local/lib/python3.6/dist-packages (from keras==2.2.4) (1.1.0)\n",
            "Requirement already satisfied: numpy>=1.9.1 in /usr/local/lib/python3.6/dist-packages (from keras==2.2.4) (1.17.3)\n",
            "Requirement already satisfied: keras-applications>=1.0.6 in /usr/local/lib/python3.6/dist-packages (from keras==2.2.4) (1.0.8)\n",
            "Requirement already satisfied: pyyaml in /usr/local/lib/python3.6/dist-packages (from keras==2.2.4) (3.13)\n",
            "Installing collected packages: keras\n",
            "  Found existing installation: Keras 2.2.5\n",
            "    Uninstalling Keras-2.2.5:\n",
            "      Successfully uninstalled Keras-2.2.5\n",
            "Successfully installed keras-2.2.4\n"
          ],
          "name": "stdout"
        }
      ]
    },
    {
      "cell_type": "code",
      "metadata": {
        "id": "OE0WxJBUoQ4E",
        "colab_type": "code",
        "colab": {}
      },
      "source": [
        "import pandas as pd\n",
        "import matplotlib.pyplot as plt\n",
        "import keras\n",
        "import numpy as np\n",
        "import cv2\n",
        "import tensorflow as tf\n",
        "from keras.datasets import mnist \n",
        "from keras.models import Model, Sequential \n",
        "from keras.layers import Dense, Input\n",
        "from keras.layers import Conv2D, MaxPooling2D, Dropout, Flatten \n",
        "from keras import backend as k \n",
        "from keras.models import Sequential\n",
        "from keras.layers import Dense, Dropout, Flatten\n",
        "from keras.layers import Conv2D, MaxPooling2D\n",
        "from keras.applications.vgg16 import preprocess_input, decode_predictions\n",
        "from keras.applications import InceptionResNetV2\n",
        "from keras.utils.np_utils import to_categorical   \n",
        "from keras.utils.vis_utils import model_to_dot\n",
        "from keras.preprocessing.image import ImageDataGenerator\n",
        "from keras import applications\n",
        "from tqdm import tqdm_notebook\n",
        "import torch\n",
        "import torchvision\n",
        "import torchvision.transforms as transforms\n",
        "import torch.nn as nn\n",
        "import torch.nn.functional as F\n",
        "from torch.autograd import Variable\n",
        "from keras.utils import np_utils"
      ],
      "execution_count": 0,
      "outputs": []
    },
    {
      "cell_type": "code",
      "metadata": {
        "id": "3m28M5F2Lmuv",
        "colab_type": "code",
        "outputId": "b9d444e1-7cde-426c-ab0a-17828e7e5974",
        "colab": {
          "base_uri": "https://localhost:8080/",
          "height": 51
        }
      },
      "source": [
        "print('Tensorflow', tf.__version__)\n",
        "print('Keras', keras.__version__)"
      ],
      "execution_count": 7,
      "outputs": [
        {
          "output_type": "stream",
          "text": [
            "Tensorflow 1.15.0\n",
            "Keras 2.2.5\n"
          ],
          "name": "stdout"
        }
      ]
    },
    {
      "cell_type": "code",
      "metadata": {
        "id": "3R55m3XIaFB2",
        "colab_type": "code",
        "colab": {}
      },
      "source": [
        "train_images = pd.read_pickle('train_max_x')"
      ],
      "execution_count": 0,
      "outputs": []
    },
    {
      "cell_type": "code",
      "metadata": {
        "id": "FNlsoXwea4m6",
        "colab_type": "code",
        "colab": {}
      },
      "source": [
        "labels = pd.read_csv('train_max_y.csv')"
      ],
      "execution_count": 0,
      "outputs": []
    },
    {
      "cell_type": "code",
      "metadata": {
        "id": "Y3SrRxGFdB8N",
        "colab_type": "code",
        "outputId": "83936ee9-41e0-4a29-de02-180e116b21b8",
        "colab": {
          "base_uri": "https://localhost:8080/",
          "height": 204
        }
      },
      "source": [
        "labels.head(5)"
      ],
      "execution_count": 65,
      "outputs": [
        {
          "output_type": "execute_result",
          "data": {
            "text/html": [
              "<div>\n",
              "<style scoped>\n",
              "    .dataframe tbody tr th:only-of-type {\n",
              "        vertical-align: middle;\n",
              "    }\n",
              "\n",
              "    .dataframe tbody tr th {\n",
              "        vertical-align: top;\n",
              "    }\n",
              "\n",
              "    .dataframe thead th {\n",
              "        text-align: right;\n",
              "    }\n",
              "</style>\n",
              "<table border=\"1\" class=\"dataframe\">\n",
              "  <thead>\n",
              "    <tr style=\"text-align: right;\">\n",
              "      <th></th>\n",
              "      <th>Id</th>\n",
              "      <th>Label</th>\n",
              "    </tr>\n",
              "  </thead>\n",
              "  <tbody>\n",
              "    <tr>\n",
              "      <th>0</th>\n",
              "      <td>0</td>\n",
              "      <td>6</td>\n",
              "    </tr>\n",
              "    <tr>\n",
              "      <th>1</th>\n",
              "      <td>1</td>\n",
              "      <td>7</td>\n",
              "    </tr>\n",
              "    <tr>\n",
              "      <th>2</th>\n",
              "      <td>2</td>\n",
              "      <td>2</td>\n",
              "    </tr>\n",
              "    <tr>\n",
              "      <th>3</th>\n",
              "      <td>3</td>\n",
              "      <td>9</td>\n",
              "    </tr>\n",
              "    <tr>\n",
              "      <th>4</th>\n",
              "      <td>4</td>\n",
              "      <td>7</td>\n",
              "    </tr>\n",
              "  </tbody>\n",
              "</table>\n",
              "</div>"
            ],
            "text/plain": [
              "   Id  Label\n",
              "0   0      6\n",
              "1   1      7\n",
              "2   2      2\n",
              "3   3      9\n",
              "4   4      7"
            ]
          },
          "metadata": {
            "tags": []
          },
          "execution_count": 65
        }
      ]
    },
    {
      "cell_type": "code",
      "metadata": {
        "id": "QC9FjW69pTWs",
        "colab_type": "code",
        "colab": {}
      },
      "source": [
        "test_images = pd.read_pickle('test_max_x')"
      ],
      "execution_count": 0,
      "outputs": []
    },
    {
      "cell_type": "code",
      "metadata": {
        "id": "2ePzACqfKg2b",
        "colab_type": "code",
        "outputId": "8eafca95-75e5-4b98-b5f4-3a19877a62d8",
        "colab": {
          "base_uri": "https://localhost:8080/",
          "height": 284
        }
      },
      "source": [
        "fig = plt.figure()\n",
        "for i in range(6):\n",
        "  plt.subplot(2,3,i+1)\n",
        "  plt.tight_layout()\n",
        "  plt.imshow(train_images[i], interpolation='none')\n",
        "  plt.title(\"Digit: {}\".format(labels.iloc[i,1]))\n",
        "  plt.xticks([])\n",
        "  plt.yticks([])"
      ],
      "execution_count": 67,
      "outputs": [
        {
          "output_type": "display_data",
          "data": {
            "image/png": "[encoded data removed]",
            "text/plain": [
              "<Figure size 432x288 with 6 Axes>"
            ]
          },
          "metadata": {
            "tags": []
          }
        }
      ]
    },
    {
      "cell_type": "code",
      "metadata": {
        "id": "Fv0MPVZ5OHOR",
        "colab_type": "code",
        "outputId": "3d362afa-f3f3-46d0-e433-74ca5475c82a",
        "colab": {
          "base_uri": "https://localhost:8080/",
          "height": 34
        }
      },
      "source": [
        "print((train_images[0].shape))"
      ],
      "execution_count": 68,
      "outputs": [
        {
          "output_type": "stream",
          "text": [
            "(128, 128)\n"
          ],
          "name": "stdout"
        }
      ]
    },
    {
      "cell_type": "code",
      "metadata": {
        "id": "U4Rp9oDJerTj",
        "colab_type": "code",
        "outputId": "9ce726d5-7d6a-49eb-8803-4e77cdace244",
        "colab": {
          "base_uri": "https://localhost:8080/",
          "height": 285
        }
      },
      "source": [
        "plt.imshow(train_images[0])"
      ],
      "execution_count": 69,
      "outputs": [
        {
          "output_type": "execute_result",
          "data": {
            "text/plain": [
              "<matplotlib.image.AxesImage at 0x7f4663635860>"
            ]
          },
          "metadata": {
            "tags": []
          },
          "execution_count": 69
        },
        {
          "output_type": "display_data",
          "data": {
            "image/png": "[encoded data removed]",
            "text/plain": [
              "<Figure size 432x288 with 1 Axes>"
            ]
          },
          "metadata": {
            "tags": []
          }
        }
      ]
    },
    {
      "cell_type": "code",
      "metadata": {
        "id": "vFMlcMmSWcQ3",
        "colab_type": "code",
        "outputId": "df2084fa-b659-49a1-be68-968090743bac",
        "colab": {
          "base_uri": "https://localhost:8080/",
          "height": 34
        }
      },
      "source": [
        "type(train_images)"
      ],
      "execution_count": 70,
      "outputs": [
        {
          "output_type": "execute_result",
          "data": {
            "text/plain": [
              "numpy.ndarray"
            ]
          },
          "metadata": {
            "tags": []
          },
          "execution_count": 70
        }
      ]
    },
    {
      "cell_type": "code",
      "metadata": {
        "id": "Ef5zyL9jWjp7",
        "colab_type": "code",
        "outputId": "66252d62-16e8-409d-dda7-671f98099ea4",
        "colab": {
          "base_uri": "https://localhost:8080/",
          "height": 136
        }
      },
      "source": [
        "print(train_images[0])"
      ],
      "execution_count": 71,
      "outputs": [
        {
          "output_type": "stream",
          "text": [
            "[[144. 153. 161. ...  58.  62.  67.]\n",
            " [144. 152. 160. ...  51.  59.  64.]\n",
            " [143. 151. 158. ...  46.  57.  62.]\n",
            " ...\n",
            " [160. 176. 172. ... 155. 163. 162.]\n",
            " [161. 167. 172. ... 147. 153. 154.]\n",
            " [156. 163. 168. ... 142. 147. 149.]]\n"
          ],
          "name": "stdout"
        }
      ]
    },
    {
      "cell_type": "code",
      "metadata": {
        "id": "4zoTV4Q_BBGo",
        "colab_type": "code",
        "colab": {}
      },
      "source": [
        "X_train = train_images.copy()"
      ],
      "execution_count": 0,
      "outputs": []
    },
    {
      "cell_type": "code",
      "metadata": {
        "id": "xw00BziJB3lG",
        "colab_type": "code",
        "colab": {}
      },
      "source": [
        "X_test = test_images.copy()"
      ],
      "execution_count": 0,
      "outputs": []
    },
    {
      "cell_type": "code",
      "metadata": {
        "id": "QBxvDf9sBHp4",
        "colab_type": "code",
        "outputId": "73fc04de-245e-4988-b2cd-fbfcbcd59be2",
        "colab": {
          "base_uri": "https://localhost:8080/",
          "height": 34
        }
      },
      "source": [
        "type(X_train)"
      ],
      "execution_count": 74,
      "outputs": [
        {
          "output_type": "execute_result",
          "data": {
            "text/plain": [
              "numpy.ndarray"
            ]
          },
          "metadata": {
            "tags": []
          },
          "execution_count": 74
        }
      ]
    },
    {
      "cell_type": "code",
      "metadata": {
        "id": "P6aYEdpkMgNt",
        "colab_type": "code",
        "colab": {}
      },
      "source": [
        "# Removing unnecessary features from training images \n",
        "for i in range(X_train.shape[0]):\n",
        "  ret,bin = cv2.threshold(X_train[i],230,255,cv2.THRESH_BINARY)\n",
        "  X_train[i] = bin"
      ],
      "execution_count": 0,
      "outputs": []
    },
    {
      "cell_type": "code",
      "metadata": {
        "id": "drDiJHKYBz5Y",
        "colab_type": "code",
        "colab": {}
      },
      "source": [
        "# Removing unnecessary features from testing images \n",
        "for i in range(X_test.shape[0]):\n",
        "  ret,bin = cv2.threshold(X_test[i],230,255,cv2.THRESH_BINARY)\n",
        "  X_test[i] = bin;"
      ],
      "execution_count": 0,
      "outputs": []
    },
    {
      "cell_type": "code",
      "metadata": {
        "id": "j-ZrT6UZLmxY",
        "colab_type": "code",
        "outputId": "53049866-0be8-4e67-9492-049f63069fb7",
        "colab": {
          "base_uri": "https://localhost:8080/",
          "height": 284
        }
      },
      "source": [
        "# Updated images\n",
        "fig = plt.figure()\n",
        "for i in range(6):\n",
        "  plt.subplot(2,3,i+1)\n",
        "  plt.tight_layout()\n",
        "  plt.imshow(X_train[i], interpolation='none')\n",
        "  plt.title(\"Digit: {}\".format(labels.iloc[i,1]))\n",
        "  plt.xticks([])\n",
        "  plt.yticks([])"
      ],
      "execution_count": 77,
      "outputs": [
        {
          "output_type": "display_data",
          "data": {
            "image/png": "[encoded data removed]",
            "text/plain": [
              "<Figure size 432x288 with 6 Axes>"
            ]
          },
          "metadata": {
            "tags": []
          }
        }
      ]
    },
    {
      "cell_type": "code",
      "metadata": {
        "id": "_PM50wRyGxTa",
        "colab_type": "code",
        "outputId": "1f51c7de-1954-4045-a954-93f01c7e9536",
        "colab": {
          "base_uri": "https://localhost:8080/",
          "height": 251
        }
      },
      "source": [
        "fig = plt.figure()\n",
        "for i in range(6):\n",
        "  plt.subplot(2,3,i+1)\n",
        "  plt.imshow(X_test[i], interpolation='none')\n",
        "  plt.xticks([])\n",
        "  plt.yticks([])"
      ],
      "execution_count": 78,
      "outputs": [
        {
          "output_type": "display_data",
          "data": {
            "image/png": "[encoded data removed]",
            "text/plain": [
              "<Figure size 432x288 with 6 Axes>"
            ]
          },
          "metadata": {
            "tags": []
          }
        }
      ]
    },
    {
      "cell_type": "code",
      "metadata": {
        "id": "lASTLtqwMCJj",
        "colab_type": "code",
        "colab": {}
      },
      "source": [
        "# Reshaping and normalising data for CNN\n",
        "X_train = X_train.reshape(X_train.shape[0], 128, 128, 1)\n",
        "input_shape = (128, 128, 1)\n",
        "# Making sure that the values are float so that we can get decimal points after division\n",
        "X_train = X_train.astype('float32')\n",
        "# Normalizing the RGB codes by dividing it to the max RGB value.\n",
        "X_train /= 255.0"
      ],
      "execution_count": 0,
      "outputs": []
    },
    {
      "cell_type": "code",
      "metadata": {
        "id": "PrkxTYCs-8Jp",
        "colab_type": "code",
        "colab": {}
      },
      "source": [
        "X_test = X_test.reshape(X_test.shape[0], 128, 128, 1)\n",
        "X_test = X_test.astype('float32')\n",
        "X_test /= 255.0"
      ],
      "execution_count": 0,
      "outputs": []
    },
    {
      "cell_type": "code",
      "metadata": {
        "id": "i6c-jBGqaR4w",
        "colab_type": "code",
        "colab": {}
      },
      "source": [
        "y_train = labels.iloc[:,1]"
      ],
      "execution_count": 0,
      "outputs": []
    },
    {
      "cell_type": "code",
      "metadata": {
        "id": "5aRx5RGLaWYH",
        "colab_type": "code",
        "outputId": "33852f75-a8e2-4ea4-d223-92ca0793bd59",
        "colab": {
          "base_uri": "https://localhost:8080/",
          "height": 34
        }
      },
      "source": [
        "print(y_train.max())"
      ],
      "execution_count": 82,
      "outputs": [
        {
          "output_type": "stream",
          "text": [
            "9\n"
          ],
          "name": "stdout"
        }
      ]
    },
    {
      "cell_type": "code",
      "metadata": {
        "id": "91Nr2isfpGze",
        "colab_type": "code",
        "colab": {}
      },
      "source": [
        "# Converting output to categorical columns\n",
        "y_train = np_utils.to_categorical(y_train)"
      ],
      "execution_count": 0,
      "outputs": []
    },
    {
      "cell_type": "code",
      "metadata": {
        "id": "ld3cDk0KAjFK",
        "colab_type": "code",
        "outputId": "11b04015-107b-4d60-adb0-cc2c1455751b",
        "colab": {
          "base_uri": "https://localhost:8080/",
          "height": 34
        }
      },
      "source": [
        "print(y_train[2].argmax())"
      ],
      "execution_count": 86,
      "outputs": [
        {
          "output_type": "stream",
          "text": [
            "2\n"
          ],
          "name": "stdout"
        }
      ]
    },
    {
      "cell_type": "code",
      "metadata": {
        "id": "w2bS3wduo18D",
        "colab_type": "code",
        "outputId": "fde1f6ac-61b1-4033-d029-92aeb461774b",
        "colab": {
          "base_uri": "https://localhost:8080/",
          "height": 34
        }
      },
      "source": [
        "print(X_train[2].mean())"
      ],
      "execution_count": 85,
      "outputs": [
        {
          "output_type": "stream",
          "text": [
            "0.026916504\n"
          ],
          "name": "stdout"
        }
      ]
    },
    {
      "cell_type": "code",
      "metadata": {
        "id": "0zG3c_iQpq6s",
        "colab_type": "code",
        "colab": {}
      },
      "source": [
        "###################### Model 1 starts (Garbage model) ############################\n",
        "input_shape = Input(shape=input_shape) \n",
        "layer1 = Conv2D(32, kernel_size=(3, 3), activation='relu')(input_shape) \n",
        "layer2 = Conv2D(64, (3, 3), activation='relu')(layer1) \n",
        "layer3 = MaxPooling2D(pool_size=(3, 3))(layer2) \n",
        "layer4 = Dropout(0.5)(layer3) \n",
        "layer5 = Flatten()(layer4) \n",
        "layer6 = Dense(250, activation='sigmoid')(layer5) \n",
        "layer7 = Dense(150, activation='sigmoid')(layer6) \n",
        "layer8 = Dense(10, activation='softmax')(layer7) "
      ],
      "execution_count": 0,
      "outputs": []
    },
    {
      "cell_type": "code",
      "metadata": {
        "id": "QEgLTxun8FdL",
        "colab_type": "code",
        "colab": {}
      },
      "source": [
        "model = Model([input_shape], layer8) \n",
        "model.compile(optimizer=keras.optimizers.Adadelta(), \n",
        "              loss=keras.losses.categorical_crossentropy, \n",
        "              metrics=['accuracy']) \n",
        "  \n",
        "model.fit(X_train, y_train, epochs=25, batch_size=500) \n"
      ],
      "execution_count": 0,
      "outputs": []
    },
    {
      "cell_type": "code",
      "metadata": {
        "id": "VM9LftC78bZo",
        "colab_type": "code",
        "outputId": "fc63bba3-f69b-4066-d8b3-ad20d2637ffc",
        "colab": {
          "base_uri": "https://localhost:8080/",
          "height": 34
        }
      },
      "source": [
        "pred = model.predict(X_test, verbose=1)"
      ],
      "execution_count": 32,
      "outputs": [
        {
          "output_type": "stream",
          "text": [
            "10000/10000 [==============================] - 7s 723us/step\n"
          ],
          "name": "stdout"
        }
      ]
    },
    {
      "cell_type": "code",
      "metadata": {
        "id": "KzZmsiVAFult",
        "colab_type": "code",
        "colab": {}
      },
      "source": [
        "pred_class = np.argmax(pred,axis=1)"
      ],
      "execution_count": 0,
      "outputs": []
    },
    {
      "cell_type": "code",
      "metadata": {
        "id": "F8qimkPEGvO9",
        "colab_type": "code",
        "colab": {
          "base_uri": "https://localhost:8080/",
          "height": 51
        },
        "outputId": "37383db8-b040-46d1-bac2-a17d9c455249"
      },
      "source": [
        "pred_class[:40]"
      ],
      "execution_count": 34,
      "outputs": [
        {
          "output_type": "execute_result",
          "data": {
            "text/plain": [
              "array([7, 8, 9, 8, 6, 9, 8, 6, 8, 9, 9, 9, 6, 8, 7, 4, 8, 3, 9, 9, 5, 8,\n",
              "       9, 7, 7, 5, 7, 9, 9, 8, 8, 9, 9, 8, 9, 4, 7, 3, 8, 8])"
            ]
          },
          "metadata": {
            "tags": []
          },
          "execution_count": 34
        }
      ]
    },
    {
      "cell_type": "code",
      "metadata": {
        "id": "C-AFn6xFpSuT",
        "colab_type": "code",
        "colab": {}
      },
      "source": [
        "test_preds = pd.DataFrame()"
      ],
      "execution_count": 0,
      "outputs": []
    },
    {
      "cell_type": "code",
      "metadata": {
        "id": "1sn_YgslrJ8v",
        "colab_type": "code",
        "colab": {}
      },
      "source": [
        "test_preds['Id'] = range(10000)"
      ],
      "execution_count": 0,
      "outputs": []
    },
    {
      "cell_type": "code",
      "metadata": {
        "id": "tEp8gZfwpjNk",
        "colab_type": "code",
        "colab": {}
      },
      "source": [
        "test_preds['Label'] = pred_class"
      ],
      "execution_count": 0,
      "outputs": []
    },
    {
      "cell_type": "code",
      "metadata": {
        "id": "x4YdfaH6q5Jp",
        "colab_type": "code",
        "colab": {
          "base_uri": "https://localhost:8080/",
          "height": 669
        },
        "outputId": "9c4971d4-9cf1-4fdb-93d8-1680ccf5b5b4"
      },
      "source": [
        "test_preds.head(20)"
      ],
      "execution_count": 38,
      "outputs": [
        {
          "output_type": "execute_result",
          "data": {
            "text/html": [
              "<div>\n",
              "<style scoped>\n",
              "    .dataframe tbody tr th:only-of-type {\n",
              "        vertical-align: middle;\n",
              "    }\n",
              "\n",
              "    .dataframe tbody tr th {\n",
              "        vertical-align: top;\n",
              "    }\n",
              "\n",
              "    .dataframe thead th {\n",
              "        text-align: right;\n",
              "    }\n",
              "</style>\n",
              "<table border=\"1\" class=\"dataframe\">\n",
              "  <thead>\n",
              "    <tr style=\"text-align: right;\">\n",
              "      <th></th>\n",
              "      <th>Id</th>\n",
              "      <th>Label</th>\n",
              "    </tr>\n",
              "  </thead>\n",
              "  <tbody>\n",
              "    <tr>\n",
              "      <th>0</th>\n",
              "      <td>0</td>\n",
              "      <td>7</td>\n",
              "    </tr>\n",
              "    <tr>\n",
              "      <th>1</th>\n",
              "      <td>1</td>\n",
              "      <td>8</td>\n",
              "    </tr>\n",
              "    <tr>\n",
              "      <th>2</th>\n",
              "      <td>2</td>\n",
              "      <td>9</td>\n",
              "    </tr>\n",
              "    <tr>\n",
              "      <th>3</th>\n",
              "      <td>3</td>\n",
              "      <td>8</td>\n",
              "    </tr>\n",
              "    <tr>\n",
              "      <th>4</th>\n",
              "      <td>4</td>\n",
              "      <td>6</td>\n",
              "    </tr>\n",
              "    <tr>\n",
              "      <th>5</th>\n",
              "      <td>5</td>\n",
              "      <td>9</td>\n",
              "    </tr>\n",
              "    <tr>\n",
              "      <th>6</th>\n",
              "      <td>6</td>\n",
              "      <td>8</td>\n",
              "    </tr>\n",
              "    <tr>\n",
              "      <th>7</th>\n",
              "      <td>7</td>\n",
              "      <td>6</td>\n",
              "    </tr>\n",
              "    <tr>\n",
              "      <th>8</th>\n",
              "      <td>8</td>\n",
              "      <td>8</td>\n",
              "    </tr>\n",
              "    <tr>\n",
              "      <th>9</th>\n",
              "      <td>9</td>\n",
              "      <td>9</td>\n",
              "    </tr>\n",
              "    <tr>\n",
              "      <th>10</th>\n",
              "      <td>10</td>\n",
              "      <td>9</td>\n",
              "    </tr>\n",
              "    <tr>\n",
              "      <th>11</th>\n",
              "      <td>11</td>\n",
              "      <td>9</td>\n",
              "    </tr>\n",
              "    <tr>\n",
              "      <th>12</th>\n",
              "      <td>12</td>\n",
              "      <td>6</td>\n",
              "    </tr>\n",
              "    <tr>\n",
              "      <th>13</th>\n",
              "      <td>13</td>\n",
              "      <td>8</td>\n",
              "    </tr>\n",
              "    <tr>\n",
              "      <th>14</th>\n",
              "      <td>14</td>\n",
              "      <td>7</td>\n",
              "    </tr>\n",
              "    <tr>\n",
              "      <th>15</th>\n",
              "      <td>15</td>\n",
              "      <td>4</td>\n",
              "    </tr>\n",
              "    <tr>\n",
              "      <th>16</th>\n",
              "      <td>16</td>\n",
              "      <td>8</td>\n",
              "    </tr>\n",
              "    <tr>\n",
              "      <th>17</th>\n",
              "      <td>17</td>\n",
              "      <td>3</td>\n",
              "    </tr>\n",
              "    <tr>\n",
              "      <th>18</th>\n",
              "      <td>18</td>\n",
              "      <td>9</td>\n",
              "    </tr>\n",
              "    <tr>\n",
              "      <th>19</th>\n",
              "      <td>19</td>\n",
              "      <td>9</td>\n",
              "    </tr>\n",
              "  </tbody>\n",
              "</table>\n",
              "</div>"
            ],
            "text/plain": [
              "    Id  Label\n",
              "0    0      7\n",
              "1    1      8\n",
              "2    2      9\n",
              "3    3      8\n",
              "4    4      6\n",
              "5    5      9\n",
              "6    6      8\n",
              "7    7      6\n",
              "8    8      8\n",
              "9    9      9\n",
              "10  10      9\n",
              "11  11      9\n",
              "12  12      6\n",
              "13  13      8\n",
              "14  14      7\n",
              "15  15      4\n",
              "16  16      8\n",
              "17  17      3\n",
              "18  18      9\n",
              "19  19      9"
            ]
          },
          "metadata": {
            "tags": []
          },
          "execution_count": 38
        }
      ]
    },
    {
      "cell_type": "code",
      "metadata": {
        "id": "EkhptSKBpjKz",
        "colab_type": "code",
        "colab": {}
      },
      "source": [
        "test_preds.to_csv(\"test.csv\", index=False)"
      ],
      "execution_count": 0,
      "outputs": []
    },
    {
      "cell_type": "code",
      "metadata": {
        "id": "BnpsunzzpjIH",
        "colab_type": "code",
        "colab": {}
      },
      "source": [
        "from google.colab import files\n",
        "\n",
        "files.download(\"test.csv\")\n",
        "\n",
        "################## Model 1 ends #############################"
      ],
      "execution_count": 0,
      "outputs": []
    },
    {
      "cell_type": "code",
      "metadata": {
        "id": "lMscxxIGQzUc",
        "colab_type": "code",
        "colab": {}
      },
      "source": [
        "print(X_train.shape)"
      ],
      "execution_count": 0,
      "outputs": []
    },
    {
      "cell_type": "code",
      "metadata": {
        "id": "DZ6OtLVwnCCb",
        "colab_type": "code",
        "colab": {}
      },
      "source": [
        "##################### Model 2 starts (Garbage model) ####################\n",
        "model = Sequential()\n",
        "model.add(Conv2D(32, (3, 3), activation='relu', kernel_initializer='he_uniform', input_shape=(128, 128, 1)))\n",
        "model.add(MaxPooling2D())\n",
        "model.add(Flatten())\n",
        "model.add(Dense(100, activation='relu', kernel_initializer='he_uniform'))\n",
        "model.add(Dense(10, activation='softmax'))\n",
        "model.compile(optimizer='adam', loss='categorical_crossentropy', metrics=['accuracy'])\n",
        "# fit model\n",
        "model.fit(X_train, y_train, epochs=10, batch_size=32, verbose=2)\n",
        "\n",
        "##################### Model 2 ends ########################"
      ],
      "execution_count": 0,
      "outputs": []
    },
    {
      "cell_type": "code",
      "metadata": {
        "id": "X1m_fT8EUtL2",
        "colab_type": "code",
        "colab": {}
      },
      "source": [
        "###################### Model 3 start (Best till now) ####################\n",
        "#################(Using pre trained vgg in cnn.....taking long to run on colab) ########\n",
        "\n",
        "# Did below to make gray as rgb (VGG requires 3 channels)\n",
        "X_train_rgb = np.repeat(X_train[..., np.newaxis], 3, -1)"
      ],
      "execution_count": 0,
      "outputs": []
    },
    {
      "cell_type": "code",
      "metadata": {
        "id": "qZ9ThdEXaMCV",
        "colab_type": "code",
        "colab": {}
      },
      "source": [
        "X_train_rgb = X_train_rgb.reshape(50000, 128, 128, 3)"
      ],
      "execution_count": 0,
      "outputs": []
    },
    {
      "cell_type": "code",
      "metadata": {
        "id": "NekUD4bqWdEt",
        "colab_type": "code",
        "colab": {}
      },
      "source": [
        "image_shape_rgb = (128,128,3)\n",
        "# num classes = total labels\n",
        "num_classes = 10\n",
        "from IPython.display import SVG\n"
      ],
      "execution_count": 0,
      "outputs": []
    },
    {
      "cell_type": "code",
      "metadata": {
        "id": "Z9BRujUGHZP3",
        "colab_type": "code",
        "colab": {
          "base_uri": "https://localhost:8080/",
          "height": 918
        },
        "outputId": "ca90d8df-7790-4bb4-98d2-d5e00eb497c3"
      },
      "source": [
        "# Pre trained VGG19\n",
        "vgg_model = applications.VGG19(include_top=False, weights='imagenet', input_shape=image_shape_rgb)\n",
        "display(vgg_model.summary())\n",
        "bottleneck_path = r'../working/bottleneck_features_train_vgg19.npy'"
      ],
      "execution_count": 132,
      "outputs": [
        {
          "output_type": "stream",
          "text": [
            "Model: \"vgg19\"\n",
            "_________________________________________________________________\n",
            "Layer (type)                 Output Shape              Param #   \n",
            "=================================================================\n",
            "input_9 (InputLayer)         (None, 128, 128, 3)       0         \n",
            "_________________________________________________________________\n",
            "block1_conv1 (Conv2D)        (None, 128, 128, 64)      1792      \n",
            "_________________________________________________________________\n",
            "block1_conv2 (Conv2D)        (None, 128, 128, 64)      36928     \n",
            "_________________________________________________________________\n",
            "block1_pool (MaxPooling2D)   (None, 64, 64, 64)        0         \n",
            "_________________________________________________________________\n",
            "block2_conv1 (Conv2D)        (None, 64, 64, 128)       73856     \n",
            "_________________________________________________________________\n",
            "block2_conv2 (Conv2D)        (None, 64, 64, 128)       147584    \n",
            "_________________________________________________________________\n",
            "block2_pool (MaxPooling2D)   (None, 32, 32, 128)       0         \n",
            "_________________________________________________________________\n",
            "block3_conv1 (Conv2D)        (None, 32, 32, 256)       295168    \n",
            "_________________________________________________________________\n",
            "block3_conv2 (Conv2D)        (None, 32, 32, 256)       590080    \n",
            "_________________________________________________________________\n",
            "block3_conv3 (Conv2D)        (None, 32, 32, 256)       590080    \n",
            "_________________________________________________________________\n",
            "block3_conv4 (Conv2D)        (None, 32, 32, 256)       590080    \n",
            "_________________________________________________________________\n",
            "block3_pool (MaxPooling2D)   (None, 16, 16, 256)       0         \n",
            "_________________________________________________________________\n",
            "block4_conv1 (Conv2D)        (None, 16, 16, 512)       1180160   \n",
            "_________________________________________________________________\n",
            "block4_conv2 (Conv2D)        (None, 16, 16, 512)       2359808   \n",
            "_________________________________________________________________\n",
            "block4_conv3 (Conv2D)        (None, 16, 16, 512)       2359808   \n",
            "_________________________________________________________________\n",
            "block4_conv4 (Conv2D)        (None, 16, 16, 512)       2359808   \n",
            "_________________________________________________________________\n",
            "block4_pool (MaxPooling2D)   (None, 8, 8, 512)         0         \n",
            "_________________________________________________________________\n",
            "block5_conv1 (Conv2D)        (None, 8, 8, 512)         2359808   \n",
            "_________________________________________________________________\n",
            "block5_conv2 (Conv2D)        (None, 8, 8, 512)         2359808   \n",
            "_________________________________________________________________\n",
            "block5_conv3 (Conv2D)        (None, 8, 8, 512)         2359808   \n",
            "_________________________________________________________________\n",
            "block5_conv4 (Conv2D)        (None, 8, 8, 512)         2359808   \n",
            "_________________________________________________________________\n",
            "block5_pool (MaxPooling2D)   (None, 4, 4, 512)         0         \n",
            "=================================================================\n",
            "Total params: 20,024,384\n",
            "Trainable params: 20,024,384\n",
            "Non-trainable params: 0\n",
            "_________________________________________________________________\n"
          ],
          "name": "stdout"
        },
        {
          "output_type": "display_data",
          "data": {
            "text/plain": [
              "None"
            ]
          },
          "metadata": {
            "tags": []
          }
        }
      ]
    },
    {
      "cell_type": "code",
      "metadata": {
        "id": "gtFdvXEJLBju",
        "colab_type": "code",
        "colab": {
          "base_uri": "https://localhost:8080/",
          "height": 391
        },
        "outputId": "c6cf0c70-c517-42e9-d018-5a2940c2de50"
      },
      "source": [
        "# Set to false the layers except the last set of conv laer and their pooling\n",
        "for layer in vgg_model.layers[:-5]:\n",
        "    layer.trainable = False\n",
        "\n",
        "# Check the trainable status of the individual layers\n",
        "for layer in vgg_model.layers:\n",
        "    print(layer, layer.trainable)"
      ],
      "execution_count": 134,
      "outputs": [
        {
          "output_type": "stream",
          "text": [
            "<keras.engine.input_layer.InputLayer object at 0x7f43fe6fd908> False\n",
            "<keras.layers.convolutional.Conv2D object at 0x7f4401516860> False\n",
            "<keras.layers.convolutional.Conv2D object at 0x7f440151d438> False\n",
            "<keras.layers.pooling.MaxPooling2D object at 0x7f43fe71e1d0> False\n",
            "<keras.layers.convolutional.Conv2D object at 0x7f43fe6c7a58> False\n",
            "<keras.layers.convolutional.Conv2D object at 0x7f43fe6e0c50> False\n",
            "<keras.layers.pooling.MaxPooling2D object at 0x7f43fe684780> False\n",
            "<keras.layers.convolutional.Conv2D object at 0x7f43fe6ac588> False\n",
            "<keras.layers.convolutional.Conv2D object at 0x7f43fe64b278> False\n",
            "<keras.layers.convolutional.Conv2D object at 0x7f43fe668470> False\n",
            "<keras.layers.convolutional.Conv2D object at 0x7f43fe61a160> False\n",
            "<keras.layers.pooling.MaxPooling2D object at 0x7f43fe5cd400> False\n",
            "<keras.layers.convolutional.Conv2D object at 0x7f43fe57a198> False\n",
            "<keras.layers.convolutional.Conv2D object at 0x7f43fe598668> False\n",
            "<keras.layers.convolutional.Conv2D object at 0x7f43fe536668> False\n",
            "<keras.layers.convolutional.Conv2D object at 0x7f43fe56a400> False\n",
            "<keras.layers.pooling.MaxPooling2D object at 0x7f43fe51a0f0> False\n",
            "<keras.layers.convolutional.Conv2D object at 0x7f43fe4c6d30> True\n",
            "<keras.layers.convolutional.Conv2D object at 0x7f43fe4e1b70> True\n",
            "<keras.layers.convolutional.Conv2D object at 0x7f43fe484278> True\n",
            "<keras.layers.convolutional.Conv2D object at 0x7f43fe437320> True\n",
            "<keras.layers.pooling.MaxPooling2D object at 0x7f43fe462748> True\n"
          ],
          "name": "stdout"
        }
      ]
    },
    {
      "cell_type": "code",
      "metadata": {
        "id": "Z-g8KIcCYJLK",
        "colab_type": "code",
        "colab": {
          "base_uri": "https://localhost:8080/",
          "height": 857
        },
        "outputId": "80f2b60f-e421-4598-d7d0-e536c41b9b09"
      },
      "source": [
        "# fix random seed for reproducibility\n",
        "seed = 101\n",
        "np.random.seed(seed)\n",
        "\n",
        "# Create the model\n",
        "clf_model = Sequential()\n",
        " \n",
        "# Add the vgg convolutional base model\n",
        "#clf_model.add(Flatten(input_shape=bottleneck_features_train.shape[1:]))\n",
        "clf_model.add(vgg_model)\n",
        "\n",
        "# Add new layers\n",
        "clf_model.add(Flatten())\n",
        "clf_model.add(Dense(1024, activation='relu'))\n",
        "clf_model.add(Dropout(0.5))\n",
        "clf_model.add(Dense(num_classes, activation='softmax'))\n",
        "\n",
        "SVG(model_to_dot(clf_model, show_shapes=True, show_layer_names=True, rankdir='TB').create(prog='dot', format='svg'))"
      ],
      "execution_count": 135,
      "outputs": [
        {
          "output_type": "execute_result",
          "data": {
            "text/plain": [
              "<IPython.core.display.SVG object>"
            ],
            "image/svg+xml": "<svg height=\"627pt\" viewBox=\"0.00 0.00 361.00 470.00\" width=\"481pt\" xmlns=\"http://www.w3.org/2000/svg\" xmlns:xlink=\"http://www.w3.org/1999/xlink\">\n<g class=\"graph\" id=\"graph0\" transform=\"scale(1.3333 1.3333) rotate(0) translate(4 466)\">\n<title>G</title>\n<polygon fill=\"#ffffff\" points=\"-4,4 -4,-466 357,-466 357,4 -4,4\" stroke=\"transparent\"/>\n<!-- 139930003616040 -->\n<g class=\"node\" id=\"node1\">\n<title>139930003616040</title>\n<polygon fill=\"none\" points=\"0,-415.5 0,-461.5 353,-461.5 353,-415.5 0,-415.5\" stroke=\"#000000\"/>\n<text fill=\"#000000\" font-family=\"Times,serif\" font-size=\"14.00\" text-anchor=\"middle\" x=\"81.5\" y=\"-434.8\">vgg19_input: InputLayer</text>\n<polyline fill=\"none\" points=\"163,-415.5 163,-461.5 \" stroke=\"#000000\"/>\n<text fill=\"#000000\" font-family=\"Times,serif\" font-size=\"14.00\" text-anchor=\"middle\" x=\"192\" y=\"-446.3\">input:</text>\n<polyline fill=\"none\" points=\"163,-438.5 221,-438.5 \" stroke=\"#000000\"/>\n<text fill=\"#000000\" font-family=\"Times,serif\" font-size=\"14.00\" text-anchor=\"middle\" x=\"192\" y=\"-423.3\">output:</text>\n<polyline fill=\"none\" points=\"221,-415.5 221,-461.5 \" stroke=\"#000000\"/>\n<text fill=\"#000000\" font-family=\"Times,serif\" font-size=\"14.00\" text-anchor=\"middle\" x=\"287\" y=\"-446.3\">(None, 128, 128, 3)</text>\n<polyline fill=\"none\" points=\"221,-438.5 353,-438.5 \" stroke=\"#000000\"/>\n<text fill=\"#000000\" font-family=\"Times,serif\" font-size=\"14.00\" text-anchor=\"middle\" x=\"287\" y=\"-423.3\">(None, 128, 128, 3)</text>\n</g>\n<!-- 139930005206072 -->\n<g class=\"node\" id=\"node2\">\n<title>139930005206072</title>\n<polygon fill=\"none\" points=\"32,-332.5 32,-378.5 321,-378.5 321,-332.5 32,-332.5\" stroke=\"#000000\"/>\n<text fill=\"#000000\" font-family=\"Times,serif\" font-size=\"14.00\" text-anchor=\"middle\" x=\"81.5\" y=\"-351.8\">vgg19: Model</text>\n<polyline fill=\"none\" points=\"131,-332.5 131,-378.5 \" stroke=\"#000000\"/>\n<text fill=\"#000000\" font-family=\"Times,serif\" font-size=\"14.00\" text-anchor=\"middle\" x=\"160\" y=\"-363.3\">input:</text>\n<polyline fill=\"none\" points=\"131,-355.5 189,-355.5 \" stroke=\"#000000\"/>\n<text fill=\"#000000\" font-family=\"Times,serif\" font-size=\"14.00\" text-anchor=\"middle\" x=\"160\" y=\"-340.3\">output:</text>\n<polyline fill=\"none\" points=\"189,-332.5 189,-378.5 \" stroke=\"#000000\"/>\n<text fill=\"#000000\" font-family=\"Times,serif\" font-size=\"14.00\" text-anchor=\"middle\" x=\"255\" y=\"-363.3\">(None, 128, 128, 3)</text>\n<polyline fill=\"none\" points=\"189,-355.5 321,-355.5 \" stroke=\"#000000\"/>\n<text fill=\"#000000\" font-family=\"Times,serif\" font-size=\"14.00\" text-anchor=\"middle\" x=\"255\" y=\"-340.3\">(None, 4, 4, 512)</text>\n</g>\n<!-- 139930003616040&#45;&gt;139930005206072 -->\n<g class=\"edge\" id=\"edge1\">\n<title>139930003616040-&gt;139930005206072</title>\n<path d=\"M176.5,-415.3799C176.5,-407.1745 176.5,-397.7679 176.5,-388.8786\" fill=\"none\" stroke=\"#000000\"/>\n<polygon fill=\"#000000\" points=\"180.0001,-388.784 176.5,-378.784 173.0001,-388.784 180.0001,-388.784\" stroke=\"#000000\"/>\n</g>\n<!-- 139930003616432 -->\n<g class=\"node\" id=\"node3\">\n<title>139930003616432</title>\n<polygon fill=\"none\" points=\"32.5,-249.5 32.5,-295.5 320.5,-295.5 320.5,-249.5 32.5,-249.5\" stroke=\"#000000\"/>\n<text fill=\"#000000\" font-family=\"Times,serif\" font-size=\"14.00\" text-anchor=\"middle\" x=\"89\" y=\"-268.8\">flatten_8: Flatten</text>\n<polyline fill=\"none\" points=\"145.5,-249.5 145.5,-295.5 \" stroke=\"#000000\"/>\n<text fill=\"#000000\" font-family=\"Times,serif\" font-size=\"14.00\" text-anchor=\"middle\" x=\"174.5\" y=\"-280.3\">input:</text>\n<polyline fill=\"none\" points=\"145.5,-272.5 203.5,-272.5 \" stroke=\"#000000\"/>\n<text fill=\"#000000\" font-family=\"Times,serif\" font-size=\"14.00\" text-anchor=\"middle\" x=\"174.5\" y=\"-257.3\">output:</text>\n<polyline fill=\"none\" points=\"203.5,-249.5 203.5,-295.5 \" stroke=\"#000000\"/>\n<text fill=\"#000000\" font-family=\"Times,serif\" font-size=\"14.00\" text-anchor=\"middle\" x=\"262\" y=\"-280.3\">(None, 4, 4, 512)</text>\n<polyline fill=\"none\" points=\"203.5,-272.5 320.5,-272.5 \" stroke=\"#000000\"/>\n<text fill=\"#000000\" font-family=\"Times,serif\" font-size=\"14.00\" text-anchor=\"middle\" x=\"262\" y=\"-257.3\">(None, 8192)</text>\n</g>\n<!-- 139930005206072&#45;&gt;139930003616432 -->\n<g class=\"edge\" id=\"edge2\">\n<title>139930005206072-&gt;139930003616432</title>\n<path d=\"M176.5,-332.3799C176.5,-324.1745 176.5,-314.7679 176.5,-305.8786\" fill=\"none\" stroke=\"#000000\"/>\n<polygon fill=\"#000000\" points=\"180.0001,-305.784 176.5,-295.784 173.0001,-305.784 180.0001,-305.784\" stroke=\"#000000\"/>\n</g>\n<!-- 139930003563408 -->\n<g class=\"node\" id=\"node4\">\n<title>139930003563408</title>\n<polygon fill=\"none\" points=\"43,-166.5 43,-212.5 310,-212.5 310,-166.5 43,-166.5\" stroke=\"#000000\"/>\n<text fill=\"#000000\" font-family=\"Times,serif\" font-size=\"14.00\" text-anchor=\"middle\" x=\"100\" y=\"-185.8\">dense_17: Dense</text>\n<polyline fill=\"none\" points=\"157,-166.5 157,-212.5 \" stroke=\"#000000\"/>\n<text fill=\"#000000\" font-family=\"Times,serif\" font-size=\"14.00\" text-anchor=\"middle\" x=\"186\" y=\"-197.3\">input:</text>\n<polyline fill=\"none\" points=\"157,-189.5 215,-189.5 \" stroke=\"#000000\"/>\n<text fill=\"#000000\" font-family=\"Times,serif\" font-size=\"14.00\" text-anchor=\"middle\" x=\"186\" y=\"-174.3\">output:</text>\n<polyline fill=\"none\" points=\"215,-166.5 215,-212.5 \" stroke=\"#000000\"/>\n<text fill=\"#000000\" font-family=\"Times,serif\" font-size=\"14.00\" text-anchor=\"middle\" x=\"262.5\" y=\"-197.3\">(None, 8192)</text>\n<polyline fill=\"none\" points=\"215,-189.5 310,-189.5 \" stroke=\"#000000\"/>\n<text fill=\"#000000\" font-family=\"Times,serif\" font-size=\"14.00\" text-anchor=\"middle\" x=\"262.5\" y=\"-174.3\">(None, 1024)</text>\n</g>\n<!-- 139930003616432&#45;&gt;139930003563408 -->\n<g class=\"edge\" id=\"edge3\">\n<title>139930003616432-&gt;139930003563408</title>\n<path d=\"M176.5,-249.3799C176.5,-241.1745 176.5,-231.7679 176.5,-222.8786\" fill=\"none\" stroke=\"#000000\"/>\n<polygon fill=\"#000000\" points=\"180.0001,-222.784 176.5,-212.784 173.0001,-222.784 180.0001,-222.784\" stroke=\"#000000\"/>\n</g>\n<!-- 139930002805704 -->\n<g class=\"node\" id=\"node5\">\n<title>139930002805704</title>\n<polygon fill=\"none\" points=\"33,-83.5 33,-129.5 320,-129.5 320,-83.5 33,-83.5\" stroke=\"#000000\"/>\n<text fill=\"#000000\" font-family=\"Times,serif\" font-size=\"14.00\" text-anchor=\"middle\" x=\"100\" y=\"-102.8\">dropout_9: Dropout</text>\n<polyline fill=\"none\" points=\"167,-83.5 167,-129.5 \" stroke=\"#000000\"/>\n<text fill=\"#000000\" font-family=\"Times,serif\" font-size=\"14.00\" text-anchor=\"middle\" x=\"196\" y=\"-114.3\">input:</text>\n<polyline fill=\"none\" points=\"167,-106.5 225,-106.5 \" stroke=\"#000000\"/>\n<text fill=\"#000000\" font-family=\"Times,serif\" font-size=\"14.00\" text-anchor=\"middle\" x=\"196\" y=\"-91.3\">output:</text>\n<polyline fill=\"none\" points=\"225,-83.5 225,-129.5 \" stroke=\"#000000\"/>\n<text fill=\"#000000\" font-family=\"Times,serif\" font-size=\"14.00\" text-anchor=\"middle\" x=\"272.5\" y=\"-114.3\">(None, 1024)</text>\n<polyline fill=\"none\" points=\"225,-106.5 320,-106.5 \" stroke=\"#000000\"/>\n<text fill=\"#000000\" font-family=\"Times,serif\" font-size=\"14.00\" text-anchor=\"middle\" x=\"272.5\" y=\"-91.3\">(None, 1024)</text>\n</g>\n<!-- 139930003563408&#45;&gt;139930002805704 -->\n<g class=\"edge\" id=\"edge4\">\n<title>139930003563408-&gt;139930002805704</title>\n<path d=\"M176.5,-166.3799C176.5,-158.1745 176.5,-148.7679 176.5,-139.8786\" fill=\"none\" stroke=\"#000000\"/>\n<polygon fill=\"#000000\" points=\"180.0001,-139.784 176.5,-129.784 173.0001,-139.784 180.0001,-139.784\" stroke=\"#000000\"/>\n</g>\n<!-- 139930002841552 -->\n<g class=\"node\" id=\"node6\">\n<title>139930002841552</title>\n<polygon fill=\"none\" points=\"43,-.5 43,-46.5 310,-46.5 310,-.5 43,-.5\" stroke=\"#000000\"/>\n<text fill=\"#000000\" font-family=\"Times,serif\" font-size=\"14.00\" text-anchor=\"middle\" x=\"100\" y=\"-19.8\">dense_18: Dense</text>\n<polyline fill=\"none\" points=\"157,-.5 157,-46.5 \" stroke=\"#000000\"/>\n<text fill=\"#000000\" font-family=\"Times,serif\" font-size=\"14.00\" text-anchor=\"middle\" x=\"186\" y=\"-31.3\">input:</text>\n<polyline fill=\"none\" points=\"157,-23.5 215,-23.5 \" stroke=\"#000000\"/>\n<text fill=\"#000000\" font-family=\"Times,serif\" font-size=\"14.00\" text-anchor=\"middle\" x=\"186\" y=\"-8.3\">output:</text>\n<polyline fill=\"none\" points=\"215,-.5 215,-46.5 \" stroke=\"#000000\"/>\n<text fill=\"#000000\" font-family=\"Times,serif\" font-size=\"14.00\" text-anchor=\"middle\" x=\"262.5\" y=\"-31.3\">(None, 1024)</text>\n<polyline fill=\"none\" points=\"215,-23.5 310,-23.5 \" stroke=\"#000000\"/>\n<text fill=\"#000000\" font-family=\"Times,serif\" font-size=\"14.00\" text-anchor=\"middle\" x=\"262.5\" y=\"-8.3\">(None, 10)</text>\n</g>\n<!-- 139930002805704&#45;&gt;139930002841552 -->\n<g class=\"edge\" id=\"edge5\">\n<title>139930002805704-&gt;139930002841552</title>\n<path d=\"M176.5,-83.3799C176.5,-75.1745 176.5,-65.7679 176.5,-56.8786\" fill=\"none\" stroke=\"#000000\"/>\n<polygon fill=\"#000000\" points=\"180.0001,-56.784 176.5,-46.784 173.0001,-56.784 180.0001,-56.784\" stroke=\"#000000\"/>\n</g>\n</g>\n</svg>"
          },
          "metadata": {
            "tags": []
          },
          "execution_count": 135
        }
      ]
    },
    {
      "cell_type": "code",
      "metadata": {
        "id": "xO_E9C6cYPp5",
        "colab_type": "code",
        "colab": {
          "base_uri": "https://localhost:8080/",
          "height": 867
        },
        "outputId": "bb217aa2-ae5c-4de8-da1a-8d173cd62670"
      },
      "source": [
        "#training\n",
        "batch_size = 128\n",
        "epochs = 25\n",
        "lrate = 0.1\n",
        "epsilon=1e-08\n",
        "decay=1e-4\n",
        "#opt_rms = optimizers.rmsprop(lr=lrate,decay=1e-4)\n",
        "optimizer = keras.optimizers.Adadelta(lr=lrate ) # decay=decay) #, epsilon=epsilon, \n",
        "#optimizer = keras.optimizers.Adam(lr=lrate, beta_1=0.9, beta_2=0.999, epsilon=epsilon, decay=decay)\n",
        "\n",
        "clf_model.compile(loss='categorical_crossentropy', optimizer=optimizer, metrics=['accuracy'])\n",
        "\n",
        "history = clf_model.fit(X_train_rgb, y_train, batch_size=batch_size, epochs=epochs, verbose=1)"
      ],
      "execution_count": 136,
      "outputs": [
        {
          "output_type": "stream",
          "text": [
            "Epoch 1/25\n",
            "50000/50000 [==============================] - 208s 4ms/step - loss: 1.5135 - acc: 0.4658\n",
            "Epoch 2/25\n",
            "50000/50000 [==============================] - 189s 4ms/step - loss: 0.6907 - acc: 0.7768\n",
            "Epoch 3/25\n",
            "50000/50000 [==============================] - 189s 4ms/step - loss: 0.4287 - acc: 0.8661\n",
            "Epoch 4/25\n",
            "50000/50000 [==============================] - 189s 4ms/step - loss: 0.3042 - acc: 0.9056\n",
            "Epoch 5/25\n",
            "50000/50000 [==============================] - 189s 4ms/step - loss: 0.2314 - acc: 0.9284\n",
            "Epoch 6/25\n",
            "50000/50000 [==============================] - 189s 4ms/step - loss: 0.1862 - acc: 0.9424\n",
            "Epoch 7/25\n",
            "50000/50000 [==============================] - 189s 4ms/step - loss: 0.1453 - acc: 0.9551\n",
            "Epoch 8/25\n",
            "50000/50000 [==============================] - 189s 4ms/step - loss: 0.1099 - acc: 0.9668\n",
            "Epoch 9/25\n",
            "50000/50000 [==============================] - 189s 4ms/step - loss: 0.0846 - acc: 0.9736\n",
            "Epoch 10/25\n",
            "50000/50000 [==============================] - 189s 4ms/step - loss: 0.0644 - acc: 0.9798\n",
            "Epoch 11/25\n",
            "50000/50000 [==============================] - 189s 4ms/step - loss: 0.0459 - acc: 0.9864\n",
            "Epoch 12/25\n",
            "50000/50000 [==============================] - 189s 4ms/step - loss: 0.0382 - acc: 0.9878\n",
            "Epoch 13/25\n",
            "50000/50000 [==============================] - 189s 4ms/step - loss: 0.0295 - acc: 0.9910\n",
            "Epoch 14/25\n",
            "50000/50000 [==============================] - 189s 4ms/step - loss: 0.0229 - acc: 0.9934\n",
            "Epoch 15/25\n",
            "50000/50000 [==============================] - 189s 4ms/step - loss: 0.0207 - acc: 0.9938\n",
            "Epoch 16/25\n",
            "50000/50000 [==============================] - 189s 4ms/step - loss: 0.0166 - acc: 0.9954\n",
            "Epoch 17/25\n",
            "50000/50000 [==============================] - 189s 4ms/step - loss: 0.0118 - acc: 0.9961\n",
            "Epoch 18/25\n",
            "50000/50000 [==============================] - 189s 4ms/step - loss: 0.0097 - acc: 0.9972\n",
            "Epoch 19/25\n",
            "50000/50000 [==============================] - 189s 4ms/step - loss: 0.0147 - acc: 0.9959\n",
            "Epoch 20/25\n",
            "50000/50000 [==============================] - 189s 4ms/step - loss: 0.0101 - acc: 0.9969\n",
            "Epoch 21/25\n",
            "50000/50000 [==============================] - 189s 4ms/step - loss: 0.0074 - acc: 0.9979\n",
            "Epoch 22/25\n",
            "50000/50000 [==============================] - 189s 4ms/step - loss: 0.0095 - acc: 0.9972\n",
            "Epoch 23/25\n",
            "50000/50000 [==============================] - 189s 4ms/step - loss: 0.0046 - acc: 0.9986\n",
            "Epoch 24/25\n",
            "50000/50000 [==============================] - 189s 4ms/step - loss: 0.0073 - acc: 0.9978\n",
            "Epoch 25/25\n",
            "50000/50000 [==============================] - 189s 4ms/step - loss: 0.0044 - acc: 0.9985\n"
          ],
          "name": "stdout"
        }
      ]
    },
    {
      "cell_type": "code",
      "metadata": {
        "id": "XtbaNbE54wX2",
        "colab_type": "code",
        "colab": {}
      },
      "source": [
        "######## Getting predictions from model 3"
      ],
      "execution_count": 0,
      "outputs": []
    },
    {
      "cell_type": "code",
      "metadata": {
        "id": "i7JMDRG00Xup",
        "colab_type": "code",
        "colab": {}
      },
      "source": [
        "X_test_rgb = np.repeat(X_test[..., np.newaxis], 3, -1)"
      ],
      "execution_count": 0,
      "outputs": []
    },
    {
      "cell_type": "code",
      "metadata": {
        "id": "PG8Nb1yl0sUX",
        "colab_type": "code",
        "colab": {}
      },
      "source": [
        "X_test_rgb = X_test_rgb.reshape(10000, 128, 128, 3)"
      ],
      "execution_count": 0,
      "outputs": []
    },
    {
      "cell_type": "code",
      "metadata": {
        "id": "EjHTdGBGZWDP",
        "colab_type": "code",
        "colab": {
          "base_uri": "https://localhost:8080/",
          "height": 68
        },
        "outputId": "d4f7f5c2-c03e-4e46-827d-da570325c3e5"
      },
      "source": [
        "pred = clf_model.predict(X_test_rgb, verbose=1)\n",
        "pred_class = np.argmax(pred,axis=1)\n",
        "print(pred_class[:40])"
      ],
      "execution_count": 139,
      "outputs": [
        {
          "output_type": "stream",
          "text": [
            "10000/10000 [==============================] - 43s 4ms/step\n",
            "[9 6 4 9 8 8 2 4 5 9 4 9 9 9 9 6 8 7 4 6 7 7 6 5 8 9 5 6 8 6 7 9 3 8 7 6 6\n",
            " 7 8 8]\n"
          ],
          "name": "stdout"
        }
      ]
    },
    {
      "cell_type": "code",
      "metadata": {
        "id": "wzEng0erp565",
        "colab_type": "code",
        "colab": {}
      },
      "source": [
        "# Saving predicted probabilities which could be used in future for writing meta classifier over it and some other model(probably)\n",
        "import pickle\n",
        "\n",
        "###Load into file\n",
        "with open(\"vgg19_pred_probability.pkl\",\"wb\") as f:\n",
        "    pickle.dump(pred,f)\n",
        "\n",
        "###Extract from file\n",
        "with open(\"vgg19_pred_probability.pkl\",\"rb\") as f:\n",
        "    data_pred = pickle.load(f)"
      ],
      "execution_count": 0,
      "outputs": []
    },
    {
      "cell_type": "code",
      "metadata": {
        "id": "XWKRj9KRsBJC",
        "colab_type": "code",
        "colab": {
          "base_uri": "https://localhost:8080/",
          "height": 34
        },
        "outputId": "7aea48b8-2172-4071-95b4-2558d4752ca3"
      },
      "source": [
        ""
      ],
      "execution_count": 179,
      "outputs": [
        {
          "output_type": "execute_result",
          "data": {
            "text/plain": [
              "False"
            ]
          },
          "metadata": {
            "tags": []
          },
          "execution_count": 179
        }
      ]
    },
    {
      "cell_type": "code",
      "metadata": {
        "id": "9Nb7xd0UsLLe",
        "colab_type": "code",
        "colab": {
          "base_uri": "https://localhost:8080/",
          "height": 34
        },
        "outputId": "99e1b9c7-2b7a-445b-93ee-72a78d9a193c"
      },
      "source": [
        "# Just for testing\n",
        "pred_class_save = np.argmax(data_pred,axis=1)\n",
        "print(np.any(pred_class_save == pred_class)==False)"
      ],
      "execution_count": 188,
      "outputs": [
        {
          "output_type": "stream",
          "text": [
            "False\n"
          ],
          "name": "stdout"
        }
      ]
    },
    {
      "cell_type": "code",
      "metadata": {
        "id": "Vo2QDa0Jsnhx",
        "colab_type": "code",
        "colab": {
          "base_uri": "https://localhost:8080/",
          "height": 374
        },
        "outputId": "0b40e144-5db4-47a8-ef99-f9b954b6ed52"
      },
      "source": [
        "# Saving prediction for kaggle\n",
        "test_preds = pd.DataFrame()\n",
        "test_preds['Id'] = range(10000)\n",
        "test_preds['Label'] = pred_class\n",
        "print(test_preds.head(20))"
      ],
      "execution_count": 140,
      "outputs": [
        {
          "output_type": "stream",
          "text": [
            "    Id  Label\n",
            "0    0      9\n",
            "1    1      6\n",
            "2    2      4\n",
            "3    3      9\n",
            "4    4      8\n",
            "5    5      8\n",
            "6    6      2\n",
            "7    7      4\n",
            "8    8      5\n",
            "9    9      9\n",
            "10  10      4\n",
            "11  11      9\n",
            "12  12      9\n",
            "13  13      9\n",
            "14  14      9\n",
            "15  15      6\n",
            "16  16      8\n",
            "17  17      7\n",
            "18  18      4\n",
            "19  19      6\n"
          ],
          "name": "stdout"
        }
      ]
    },
    {
      "cell_type": "code",
      "metadata": {
        "id": "ikkLwxWltMQG",
        "colab_type": "code",
        "colab": {}
      },
      "source": [
        "test_preds.to_csv(\"vgg19_pred.csv\", index=False)\n",
        "from google.colab import files\n",
        "\n",
        "files.download(\"vgg19_pred.csv\")\n",
        "################### Model 3 ends ###################"
      ],
      "execution_count": 0,
      "outputs": []
    },
    {
      "cell_type": "code",
      "metadata": {
        "id": "tjA8KWJe0_4I",
        "colab_type": "code",
        "colab": {}
      },
      "source": [
        "######################## Model 4 starts (Trying to stack two pre trained models (but was unable to try))\n",
        "conv_base = InceptionResNetV2(include_top=False, weights='imagenet', input_shape=image_shape_rgb)"
      ],
      "execution_count": 0,
      "outputs": []
    },
    {
      "cell_type": "code",
      "metadata": {
        "id": "0MX5-vdi7uxB",
        "colab_type": "code",
        "colab": {}
      },
      "source": [
        "vgg_model = applications.VGG19(include_top=False, weights='imagenet', input_shape=image_shape_rgb)"
      ],
      "execution_count": 0,
      "outputs": []
    },
    {
      "cell_type": "code",
      "metadata": {
        "id": "rZLXkARt8Jvy",
        "colab_type": "code",
        "colab": {}
      },
      "source": [
        "for layer in vgg_model.layers[:]:\n",
        "    layer.trainable = False"
      ],
      "execution_count": 0,
      "outputs": []
    },
    {
      "cell_type": "code",
      "metadata": {
        "id": "eQ63XYzdBc1U",
        "colab_type": "code",
        "colab": {}
      },
      "source": [
        "for layer in conv_base.layers[:-5]:\n",
        "    layer.trainable = False"
      ],
      "execution_count": 0,
      "outputs": []
    },
    {
      "cell_type": "code",
      "metadata": {
        "id": "xw1M23oX8tV-",
        "colab_type": "code",
        "colab": {
          "base_uri": "https://localhost:8080/",
          "height": 1000
        },
        "outputId": "cf4f6273-d501-4a35-8efe-af5a776e1d56"
      },
      "source": [
        "for layer in vgg_model.layers:\n",
        "    print(layer, layer.trainable)\n",
        "\n",
        "for layer in conv_base.layers:\n",
        "    print(layer, layer.trainable)"
      ],
      "execution_count": 124,
      "outputs": [
        {
          "output_type": "stream",
          "text": [
            "<keras.engine.input_layer.InputLayer object at 0x7f44143661d0> False\n",
            "<keras.layers.convolutional.Conv2D object at 0x7f44143662e8> False\n",
            "<keras.layers.convolutional.Conv2D object at 0x7f46636dd400> False\n",
            "<keras.layers.pooling.MaxPooling2D object at 0x7f4414432278> False\n",
            "<keras.layers.convolutional.Conv2D object at 0x7f441440c9e8> False\n",
            "<keras.layers.convolutional.Conv2D object at 0x7f4414337278> False\n",
            "<keras.layers.pooling.MaxPooling2D object at 0x7f4414370630> False\n",
            "<keras.layers.convolutional.Conv2D object at 0x7f4414368a58> False\n",
            "<keras.layers.convolutional.Conv2D object at 0x7f44143577b8> False\n",
            "<keras.layers.convolutional.Conv2D object at 0x7f4414354710> False\n",
            "<keras.layers.convolutional.Conv2D object at 0x7f4414340550> False\n",
            "<keras.layers.pooling.MaxPooling2D object at 0x7f44143b67f0> False\n",
            "<keras.layers.convolutional.Conv2D object at 0x7f44143c1828> False\n",
            "<keras.layers.convolutional.Conv2D object at 0x7f44143c1e48> False\n",
            "<keras.layers.convolutional.Conv2D object at 0x7f44143cb4a8> False\n",
            "<keras.layers.convolutional.Conv2D object at 0x7f44143d1710> False\n",
            "<keras.layers.pooling.MaxPooling2D object at 0x7f44143da198> False\n",
            "<keras.layers.convolutional.Conv2D object at 0x7f44143e0748> True\n",
            "<keras.layers.convolutional.Conv2D object at 0x7f44143e68d0> True\n",
            "<keras.layers.convolutional.Conv2D object at 0x7f44143ea630> True\n",
            "<keras.layers.convolutional.Conv2D object at 0x7f4413af5630> True\n",
            "<keras.layers.pooling.MaxPooling2D object at 0x7f4413afb9b0> True\n",
            "<keras.engine.input_layer.InputLayer object at 0x7f440b452eb8> False\n",
            "<keras.layers.convolutional.Conv2D object at 0x7f440b452d68> False\n",
            "<keras.layers.normalization.BatchNormalization object at 0x7f440b3f5160> False\n",
            "<keras.layers.core.Activation object at 0x7f440b3f5d68> False\n",
            "<keras.layers.convolutional.Conv2D object at 0x7f440b3f5ef0> False\n",
            "<keras.layers.normalization.BatchNormalization object at 0x7f440b41ce48> False\n",
            "<keras.layers.core.Activation object at 0x7f440b42af98> False\n",
            "<keras.layers.convolutional.Conv2D object at 0x7f440b42afd0> False\n",
            "<keras.layers.normalization.BatchNormalization object at 0x7f440b3e4668> False\n",
            "<keras.layers.core.Activation object at 0x7f440b3e4ba8> False\n",
            "<keras.layers.pooling.MaxPooling2D object at 0x7f440b3ecf98> False\n",
            "<keras.layers.convolutional.Conv2D object at 0x7f440b396a20> False\n",
            "<keras.layers.normalization.BatchNormalization object at 0x7f440b3accc0> False\n",
            "<keras.layers.core.Activation object at 0x7f440b3acfd0> False\n",
            "<keras.layers.convolutional.Conv2D object at 0x7f440b3b3ac8> False\n",
            "<keras.layers.normalization.BatchNormalization object at 0x7f440b36c898> False\n",
            "<keras.layers.core.Activation object at 0x7f440b36c828> False\n",
            "<keras.layers.pooling.MaxPooling2D object at 0x7f440b2f4f28> False\n",
            "<keras.layers.convolutional.Conv2D object at 0x7f440b244ac8> False\n",
            "<keras.layers.normalization.BatchNormalization object at 0x7f440b1fb898> False\n",
            "<keras.layers.core.Activation object at 0x7f440b1fbe48> False\n",
            "<keras.layers.convolutional.Conv2D object at 0x7f440b2bbcf8> False\n",
            "<keras.layers.convolutional.Conv2D object at 0x7f440b201f28> False\n",
            "<keras.layers.normalization.BatchNormalization object at 0x7f440b274ac8> False\n",
            "<keras.layers.normalization.BatchNormalization object at 0x7f440b1bce10> False\n",
            "<keras.layers.core.Activation object at 0x7f440b274a58> False\n",
            "<keras.layers.core.Activation object at 0x7f440b26d828> False\n",
            "<keras.layers.pooling.AveragePooling2D object at 0x7f440b18dfd0> False\n",
            "<keras.layers.convolutional.Conv2D object at 0x7f440b30f668> False\n",
            "<keras.layers.convolutional.Conv2D object at 0x7f440b27de80> False\n",
            "<keras.layers.convolutional.Conv2D object at 0x7f440b1c5e80> False\n",
            "<keras.layers.convolutional.Conv2D object at 0x7f440b1aea20> False\n",
            "<keras.layers.normalization.BatchNormalization object at 0x7f440b2b5ef0> False\n",
            "<keras.layers.normalization.BatchNormalization object at 0x7f440b23a128> False\n",
            "<keras.layers.normalization.BatchNormalization object at 0x7f440b184668> False\n",
            "<keras.layers.normalization.BatchNormalization object at 0x7f440b150ba8> False\n",
            "<keras.layers.core.Activation object at 0x7f440b2b5e48> False\n",
            "<keras.layers.core.Activation object at 0x7f440b23afd0> False\n",
            "<keras.layers.core.Activation object at 0x7f440b184be0> False\n",
            "<keras.layers.core.Activation object at 0x7f440b150f60> False\n",
            "<keras.layers.merge.Concatenate object at 0x7f440b155978> False\n",
            "<keras.layers.convolutional.Conv2D object at 0x7f440b09feb8> False\n",
            "<keras.layers.normalization.BatchNormalization object at 0x7f440b058f60> False\n",
            "<keras.layers.core.Activation object at 0x7f440b05de48> False\n",
            "<keras.layers.convolutional.Conv2D object at 0x7f440b117f98> False\n",
            "<keras.layers.convolutional.Conv2D object at 0x7f440b05df60> False\n",
            "<keras.layers.normalization.BatchNormalization object at 0x7f440b0d6240> False\n",
            "<keras.layers.normalization.BatchNormalization object at 0x7f440b020630> False\n",
            "<keras.layers.core.Activation object at 0x7f440b0d6f60> False\n",
            "<keras.layers.core.Activation object at 0x7f440b020ba8> False\n",
            "<keras.layers.convolutional.Conv2D object at 0x7f440b15abe0> False\n",
            "<keras.layers.convolutional.Conv2D object at 0x7f440b0dea58> False\n",
            "<keras.layers.convolutional.Conv2D object at 0x7f440b029f98> False\n",
            "<keras.layers.normalization.BatchNormalization object at 0x7f440b10e630> False\n",
            "<keras.layers.normalization.BatchNormalization object at 0x7f440b094828> False\n",
            "<keras.layers.normalization.BatchNormalization object at 0x7f440afe1cf8> False\n",
            "<keras.layers.core.Activation object at 0x7f440b10e748> False\n",
            "<keras.layers.core.Activation object at 0x7f440b0947b8> False\n",
            "<keras.layers.core.Activation object at 0x7f440afe8d68> False\n",
            "<keras.layers.merge.Concatenate object at 0x7f440afe8b70> False\n",
            "<keras.layers.convolutional.Conv2D object at 0x7f440af7ffd0> False\n",
            "<keras.layers.core.Lambda object at 0x7f440afa9470> False\n",
            "<keras.layers.core.Activation object at 0x7f440afa9438> False\n",
            "<keras.layers.convolutional.Conv2D object at 0x7f440aec8da0> False\n",
            "<keras.layers.normalization.BatchNormalization object at 0x7f440ae7fb38> False\n",
            "<keras.layers.core.Activation object at 0x7f440ae7fac8> False\n",
            "<keras.layers.convolutional.Conv2D object at 0x7f440af3ff60> False\n",
            "<keras.layers.convolutional.Conv2D object at 0x7f440ae88ef0> False\n",
            "<keras.layers.normalization.BatchNormalization object at 0x7f440aef7cf8> False\n",
            "<keras.layers.normalization.BatchNormalization object at 0x7f440ae49208> False\n",
            "<keras.layers.core.Activation object at 0x7f440aefeeb8> False\n",
            "<keras.layers.core.Activation object at 0x7f440ae49fd0> False\n",
            "<keras.layers.convolutional.Conv2D object at 0x7f440af37828> False\n",
            "<keras.layers.convolutional.Conv2D object at 0x7f440aefeef0> False\n",
            "<keras.layers.convolutional.Conv2D object at 0x7f440ae50b70> False\n",
            "<keras.layers.normalization.BatchNormalization object at 0x7f440af37f98> False\n",
            "<keras.layers.normalization.BatchNormalization object at 0x7f440aebf438> False\n",
            "<keras.layers.normalization.BatchNormalization object at 0x7f440ae0a940> False\n",
            "<keras.layers.core.Activation object at 0x7f440af3fdd8> False\n",
            "<keras.layers.core.Activation object at 0x7f440aebf978> False\n",
            "<keras.layers.core.Activation object at 0x7f440ae8f320> False\n",
            "<keras.layers.merge.Concatenate object at 0x7f440ae10e48> False\n",
            "<keras.layers.convolutional.Conv2D object at 0x7f440ae20a58> False\n",
            "<keras.layers.core.Lambda object at 0x7f440add2668> False\n",
            "<keras.layers.core.Activation object at 0x7f440add2710> False\n",
            "<keras.layers.convolutional.Conv2D object at 0x7f440ad72470> False\n",
            "<keras.layers.normalization.BatchNormalization object at 0x7f440ad2a710> False\n",
            "<keras.layers.core.Activation object at 0x7f440ad2ac50> False\n",
            "<keras.layers.convolutional.Conv2D object at 0x7f440ade7b38> False\n",
            "<keras.layers.convolutional.Conv2D object at 0x7f440ad32da0> False\n",
            "<keras.layers.normalization.BatchNormalization object at 0x7f440ada0940> False\n",
            "<keras.layers.normalization.BatchNormalization object at 0x7f440ace9c88> False\n",
            "<keras.layers.core.Activation object at 0x7f440ada08d0> False\n",
            "<keras.layers.core.Activation object at 0x7f440acf0eb8> False\n",
            "<keras.layers.convolutional.Conv2D object at 0x7f440addbda0> False\n",
            "<keras.layers.convolutional.Conv2D object at 0x7f440ada8fd0> False\n",
            "<keras.layers.convolutional.Conv2D object at 0x7f440ac7eef0> False\n",
            "<keras.layers.normalization.BatchNormalization object at 0x7f440ade0b38> False\n",
            "<keras.layers.normalization.BatchNormalization object at 0x7f440ad59e80> False\n",
            "<keras.layers.normalization.BatchNormalization object at 0x7f440aca64e0> False\n",
            "<keras.layers.core.Activation object at 0x7f440ade0f98> False\n",
            "<keras.layers.core.Activation object at 0x7f440ad67ef0> False\n",
            "<keras.layers.core.Activation object at 0x7f440aca6a58> False\n",
            "<keras.layers.merge.Concatenate object at 0x7f440acade80> False\n",
            "<keras.layers.convolutional.Conv2D object at 0x7f440ac35c88> False\n",
            "<keras.layers.core.Lambda object at 0x7f440ac55198> False\n",
            "<keras.layers.core.Activation object at 0x7f440ac55208> False\n",
            "<keras.layers.convolutional.Conv2D object at 0x7f440abdeda0> False\n",
            "<keras.layers.normalization.BatchNormalization object at 0x7f440ab9a2b0> False\n",
            "<keras.layers.core.Activation object at 0x7f440ab9afd0> False\n",
            "<keras.layers.convolutional.Conv2D object at 0x7f440ac60f98> False\n",
            "<keras.layers.convolutional.Conv2D object at 0x7f440aba6ac8> False\n",
            "<keras.layers.normalization.BatchNormalization object at 0x7f440ac184a8> False\n",
            "<keras.layers.normalization.BatchNormalization object at 0x7f440ab5d8d0> False\n",
            "<keras.layers.core.Activation object at 0x7f440ac18f28> False\n",
            "<keras.layers.core.Activation object at 0x7f440ab5d860> False\n",
            "<keras.layers.convolutional.Conv2D object at 0x7f440ac5c940> False\n",
            "<keras.layers.convolutional.Conv2D object at 0x7f440ac1dcf8> False\n",
            "<keras.layers.convolutional.Conv2D object at 0x7f440ab63f60> False\n",
            "<keras.layers.normalization.BatchNormalization object at 0x7f440ac606d8> False\n",
            "<keras.layers.normalization.BatchNormalization object at 0x7f440abd5b00> False\n",
            "<keras.layers.normalization.BatchNormalization object at 0x7f440ab1cf60> False\n",
            "<keras.layers.core.Activation object at 0x7f440ac60f60> False\n",
            "<keras.layers.core.Activation object at 0x7f440abd5a90> False\n",
            "<keras.layers.core.Activation object at 0x7f440ab23f28> False\n",
            "<keras.layers.merge.Concatenate object at 0x7f440ab2ca20> False\n",
            "<keras.layers.convolutional.Conv2D object at 0x7f440ab33f98> False\n",
            "<keras.layers.core.Lambda object at 0x7f440aae27f0> False\n",
            "<keras.layers.core.Activation object at 0x7f440aae2780> False\n",
            "<keras.layers.convolutional.Conv2D object at 0x7f440aa03f98> False\n",
            "<keras.layers.normalization.BatchNormalization object at 0x7f440a9bdd68> False\n",
            "<keras.layers.core.Activation object at 0x7f440a9c5f28> False\n",
            "<keras.layers.convolutional.Conv2D object at 0x7f440aa7aef0> False\n",
            "<keras.layers.convolutional.Conv2D object at 0x7f440a9c5f60> False\n",
            "<keras.layers.normalization.BatchNormalization object at 0x7f440aa34fd0> False\n",
            "<keras.layers.normalization.BatchNormalization object at 0x7f440a984470> False\n",
            "<keras.layers.core.Activation object at 0x7f440aa3af98> False\n",
            "<keras.layers.core.Activation object at 0x7f440a9849e8> False\n",
            "<keras.layers.convolutional.Conv2D object at 0x7f440aaf2470> False\n",
            "<keras.layers.convolutional.Conv2D object at 0x7f440aa3afd0> False\n",
            "<keras.layers.convolutional.Conv2D object at 0x7f440a98ee10> False\n",
            "<keras.layers.normalization.BatchNormalization object at 0x7f440aa7a240> False\n",
            "<keras.layers.normalization.BatchNormalization object at 0x7f440a9fa6a0> False\n",
            "<keras.layers.normalization.BatchNormalization object at 0x7f440a944b38> False\n",
            "<keras.layers.core.Activation object at 0x7f440aa7ad68> False\n",
            "<keras.layers.core.Activation object at 0x7f440a9fac18> False\n",
            "<keras.layers.core.Activation object at 0x7f440a944f98> False\n",
            "<keras.layers.merge.Concatenate object at 0x7f440a94ce80> False\n",
            "<keras.layers.convolutional.Conv2D object at 0x7f440a95bcf8> False\n",
            "<keras.layers.core.Lambda object at 0x7f440a90b9b0> False\n",
            "<keras.layers.core.Activation object at 0x7f440a90b2b0> False\n",
            "<keras.layers.convolutional.Conv2D object at 0x7f440a8adba8> False\n",
            "<keras.layers.normalization.BatchNormalization object at 0x7f440a8639b0> False\n",
            "<keras.layers.core.Activation object at 0x7f440a863940> False\n",
            "<keras.layers.convolutional.Conv2D object at 0x7f440a924dd8> False\n",
            "<keras.layers.convolutional.Conv2D object at 0x7f440a86cef0> False\n",
            "<keras.layers.normalization.BatchNormalization object at 0x7f440a8d9b38> False\n",
            "<keras.layers.normalization.BatchNormalization object at 0x7f440a825f60> False\n",
            "<keras.layers.core.Activation object at 0x7f440a8d9f98> False\n",
            "<keras.layers.core.Activation object at 0x7f440a82cf98> False\n",
            "<keras.layers.convolutional.Conv2D object at 0x7f440a914ba8> False\n",
            "<keras.layers.convolutional.Conv2D object at 0x7f440a8e2f98> False\n",
            "<keras.layers.convolutional.Conv2D object at 0x7f440a8339b0> False\n",
            "<keras.layers.normalization.BatchNormalization object at 0x7f440a91bdd8> False\n",
            "<keras.layers.normalization.BatchNormalization object at 0x7f440a8a5278> False\n",
            "<keras.layers.normalization.BatchNormalization object at 0x7f440a7eb780> False\n",
            "<keras.layers.core.Activation object at 0x7f440a91bef0> False\n",
            "<keras.layers.core.Activation object at 0x7f440a8a5fd0> False\n",
            "<keras.layers.core.Activation object at 0x7f440a7eb710> False\n",
            "<keras.layers.merge.Concatenate object at 0x7f440a776f60> False\n",
            "<keras.layers.convolutional.Conv2D object at 0x7f440a781f98> False\n",
            "<keras.layers.core.Lambda object at 0x7f440a7b3438> False\n",
            "<keras.layers.core.Activation object at 0x7f440a7b34a8> False\n",
            "<keras.layers.convolutional.Conv2D object at 0x7f440a6cbef0> False\n",
            "<keras.layers.normalization.BatchNormalization object at 0x7f440a68d550> False\n",
            "<keras.layers.core.Activation object at 0x7f440a68dfd0> False\n",
            "<keras.layers.convolutional.Conv2D object at 0x7f440a749978> False\n",
            "<keras.layers.convolutional.Conv2D object at 0x7f440a694da0> False\n",
            "<keras.layers.normalization.BatchNormalization object at 0x7f440a703748> False\n",
            "<keras.layers.normalization.BatchNormalization object at 0x7f440a64db70> False\n",
            "<keras.layers.core.Activation object at 0x7f440a703c88> False\n",
            "<keras.layers.core.Activation object at 0x7f440a64db00> False\n",
            "<keras.layers.convolutional.Conv2D object at 0x7f440a73cbe0> False\n",
            "<keras.layers.convolutional.Conv2D object at 0x7f440a70af60> False\n",
            "<keras.layers.convolutional.Conv2D object at 0x7f440a656e10> False\n",
            "<keras.layers.normalization.BatchNormalization object at 0x7f440a742978> False\n",
            "<keras.layers.normalization.BatchNormalization object at 0x7f440a6c5cf8> False\n",
            "<keras.layers.normalization.BatchNormalization object at 0x7f440a613358> False\n",
            "<keras.layers.core.Activation object at 0x7f440a742f60> False\n",
            "<keras.layers.core.Activation object at 0x7f440a6cbb00> False\n",
            "<keras.layers.core.Activation object at 0x7f440a613898> False\n",
            "<keras.layers.merge.Concatenate object at 0x7f440a61ccc0> False\n",
            "<keras.layers.convolutional.Conv2D object at 0x7f440a629fd0> False\n",
            "<keras.layers.core.Lambda object at 0x7f440a5d4f28> False\n",
            "<keras.layers.core.Activation object at 0x7f440a6d36a0> False\n",
            "<keras.layers.convolutional.Conv2D object at 0x7f440a4f6fd0> False\n",
            "<keras.layers.normalization.BatchNormalization object at 0x7f440a4b40f0> False\n",
            "<keras.layers.core.Activation object at 0x7f440a4b4f28> False\n",
            "<keras.layers.convolutional.Conv2D object at 0x7f440a5ebdd8> False\n",
            "<keras.layers.convolutional.Conv2D object at 0x7f440a4bf940> False\n",
            "<keras.layers.normalization.BatchNormalization object at 0x7f440a5ab358> False\n",
            "<keras.layers.normalization.BatchNormalization object at 0x7f440a4766d8> False\n",
            "<keras.layers.core.Activation object at 0x7f440a5abeb8> False\n",
            "<keras.layers.core.Activation object at 0x7f440a476c50> False\n",
            "<keras.layers.convolutional.Conv2D object at 0x7f440a5e26d8> False\n",
            "<keras.layers.convolutional.Conv2D object at 0x7f440a5b3b70> False\n",
            "<keras.layers.convolutional.Conv2D object at 0x7f440a47eeb8> False\n",
            "<keras.layers.normalization.BatchNormalization object at 0x7f440a5eb518> False\n",
            "<keras.layers.normalization.BatchNormalization object at 0x7f440a56b940> False\n",
            "<keras.layers.normalization.BatchNormalization object at 0x7f440a436dd8> False\n",
            "<keras.layers.core.Activation object at 0x7f440a5ebda0> False\n",
            "<keras.layers.core.Activation object at 0x7f440a56b8d0> False\n",
            "<keras.layers.core.Activation object at 0x7f440a43ce48> False\n",
            "<keras.layers.merge.Concatenate object at 0x7f440a43cf60> False\n",
            "<keras.layers.convolutional.Conv2D object at 0x7f440a454f98> False\n",
            "<keras.layers.core.Lambda object at 0x7f440a3fe518> False\n",
            "<keras.layers.core.Activation object at 0x7f440a3fe630> False\n",
            "<keras.layers.convolutional.Conv2D object at 0x7f440a39ce80> False\n",
            "<keras.layers.normalization.BatchNormalization object at 0x7f440a355ba8> False\n",
            "<keras.layers.core.Activation object at 0x7f440a35bd68> False\n",
            "<keras.layers.convolutional.Conv2D object at 0x7f440a414e80> False\n",
            "<keras.layers.convolutional.Conv2D object at 0x7f440a35bda0> False\n",
            "<keras.layers.normalization.BatchNormalization object at 0x7f440a3cedd8> False\n",
            "<keras.layers.normalization.BatchNormalization object at 0x7f440a31b2e8> False\n",
            "<keras.layers.core.Activation object at 0x7f440a3d7eb8> False\n",
            "<keras.layers.core.Activation object at 0x7f440a31b828> False\n",
            "<keras.layers.convolutional.Conv2D object at 0x7f440a40c908> False\n",
            "<keras.layers.convolutional.Conv2D object at 0x7f440a3d7f98> False\n",
            "<keras.layers.convolutional.Conv2D object at 0x7f440a324c50> False\n",
            "<keras.layers.normalization.BatchNormalization object at 0x7f440a40cef0> False\n",
            "<keras.layers.normalization.BatchNormalization object at 0x7f440a3944e0> False\n",
            "<keras.layers.normalization.BatchNormalization object at 0x7f440a2dea20> False\n",
            "<keras.layers.core.Activation object at 0x7f440a414fd0> False\n",
            "<keras.layers.core.Activation object at 0x7f440a394a58> False\n",
            "<keras.layers.core.Activation object at 0x7f440a2de9b0> False\n",
            "<keras.layers.merge.Concatenate object at 0x7f440a2e6f28> False\n",
            "<keras.layers.convolutional.Conv2D object at 0x7f440a2f3b38> False\n",
            "<keras.layers.core.Lambda object at 0x7f440a2a67f0> False\n",
            "<keras.layers.core.Activation object at 0x7f440a2a60f0> False\n",
            "<keras.layers.convolutional.Conv2D object at 0x7f440a1c5a20> False\n",
            "<keras.layers.normalization.BatchNormalization object at 0x7f440a17d7f0> False\n",
            "<keras.layers.core.Activation object at 0x7f440a17dd30> False\n",
            "<keras.layers.convolutional.Conv2D object at 0x7f440a23cc18> False\n",
            "<keras.layers.convolutional.Conv2D object at 0x7f440a183f98> False\n",
            "<keras.layers.normalization.BatchNormalization object at 0x7f440a1f4a20> False\n",
            "<keras.layers.normalization.BatchNormalization object at 0x7f440a13dd68> False\n",
            "<keras.layers.core.Activation object at 0x7f440a1f49b0> False\n",
            "<keras.layers.core.Activation object at 0x7f440a143dd8> False\n",
            "<keras.layers.convolutional.Conv2D object at 0x7f440a2af5c0> False\n",
            "<keras.layers.convolutional.Conv2D object at 0x7f440a1fcf28> False\n",
            "<keras.layers.convolutional.Conv2D object at 0x7f440a143be0> False\n",
            "<keras.layers.normalization.BatchNormalization object at 0x7f440a236c18> False\n",
            "<keras.layers.normalization.BatchNormalization object at 0x7f440a1b5f60> False\n",
            "<keras.layers.normalization.BatchNormalization object at 0x7f440a104588> False\n",
            "<keras.layers.core.Activation object at 0x7f440a236ef0> False\n",
            "<keras.layers.core.Activation object at 0x7f440a1bcf28> False\n",
            "<keras.layers.core.Activation object at 0x7f440a104b00> False\n",
            "<keras.layers.merge.Concatenate object at 0x7f440a10dd68> False\n",
            "<keras.layers.convolutional.Conv2D object at 0x7f440a11dd68> False\n",
            "<keras.layers.core.Lambda object at 0x7f440a0cf278> False\n",
            "<keras.layers.core.Activation object at 0x7f440a0cf2e8> False\n",
            "<keras.layers.convolutional.Conv2D object at 0x7f440a0dcba8> False\n",
            "<keras.layers.normalization.BatchNormalization object at 0x7f440a0d69e8> False\n",
            "<keras.layers.core.Activation object at 0x7f440a09db38> False\n",
            "<keras.layers.convolutional.Conv2D object at 0x7f440a0a4550> False\n",
            "<keras.layers.normalization.BatchNormalization object at 0x7f440a05bb38> False\n",
            "<keras.layers.core.Activation object at 0x7f440a05bf98> False\n",
            "<keras.layers.convolutional.Conv2D object at 0x7f440a0d6a20> False\n",
            "<keras.layers.convolutional.Conv2D object at 0x7f440a065e80> False\n",
            "<keras.layers.normalization.BatchNormalization object at 0x7f440a0dc7b8> False\n",
            "<keras.layers.normalization.BatchNormalization object at 0x7f440a0243c8> False\n",
            "<keras.layers.core.Activation object at 0x7f440a0dcda0> False\n",
            "<keras.layers.core.Activation object at 0x7f440a024908> False\n",
            "<keras.layers.pooling.MaxPooling2D object at 0x7f440a02bd30> False\n",
            "<keras.layers.merge.Concatenate object at 0x7f4409fc8898> False\n",
            "<keras.layers.convolutional.Conv2D object at 0x7f4409f749b0> False\n",
            "<keras.layers.normalization.BatchNormalization object at 0x7f440a0ab518> False\n",
            "<keras.layers.core.Activation object at 0x7f4409faecc0> False\n",
            "<keras.layers.convolutional.Conv2D object at 0x7f4409f35710> False\n",
            "<keras.layers.normalization.BatchNormalization object at 0x7f4409f6ecf8> False\n",
            "<keras.layers.core.Activation object at 0x7f4409ef7d68> False\n",
            "<keras.layers.convolutional.Conv2D object at 0x7f4409fd67f0> False\n",
            "<keras.layers.convolutional.Conv2D object at 0x7f4409ef7b70> False\n",
            "<keras.layers.normalization.BatchNormalization object at 0x7f4409feb898> False\n",
            "<keras.layers.normalization.BatchNormalization object at 0x7f4409eb7550> False\n",
            "<keras.layers.core.Activation object at 0x7f4409febf98> False\n",
            "<keras.layers.core.Activation object at 0x7f4409eb7ac8> False\n",
            "<keras.layers.merge.Concatenate object at 0x7f4409ebed30> False\n",
            "<keras.layers.convolutional.Conv2D object at 0x7f4409ececf8> False\n",
            "<keras.layers.core.Lambda object at 0x7f4409e7f208> False\n",
            "<keras.layers.core.Activation object at 0x7f4409e7f278> False\n",
            "<keras.layers.convolutional.Conv2D object at 0x7f4409e8ef98> False\n",
            "<keras.layers.normalization.BatchNormalization object at 0x7f4409e4d4e0> False\n",
            "<keras.layers.core.Activation object at 0x7f4409e4df60> False\n",
            "<keras.layers.convolutional.Conv2D object at 0x7f4409e54d30> False\n",
            "<keras.layers.normalization.BatchNormalization object at 0x7f4409e0eb38> False\n",
            "<keras.layers.core.Activation object at 0x7f4409e0eac8> False\n",
            "<keras.layers.convolutional.Conv2D object at 0x7f4409e87978> False\n",
            "<keras.layers.convolutional.Conv2D object at 0x7f4409e16dd8> False\n",
            "<keras.layers.normalization.BatchNormalization object at 0x7f4409e8e710> False\n",
            "<keras.layers.normalization.BatchNormalization object at 0x7f4409dd6320> False\n",
            "<keras.layers.core.Activation object at 0x7f4409e8eeb8> False\n",
            "<keras.layers.core.Activation object at 0x7f4409dd6860> False\n",
            "<keras.layers.merge.Concatenate object at 0x7f4409ddec88> False\n",
            "<keras.layers.convolutional.Conv2D object at 0x7f4409deef60> False\n",
            "<keras.layers.core.Lambda object at 0x7f4409d97fd0> False\n",
            "<keras.layers.core.Activation object at 0x7f4409d9f6a0> False\n",
            "<keras.layers.convolutional.Conv2D object at 0x7f4409dacfd0> False\n",
            "<keras.layers.normalization.BatchNormalization object at 0x7f4409d6c2e8> False\n",
            "<keras.layers.core.Activation object at 0x7f4409d6ce48> False\n",
            "<keras.layers.convolutional.Conv2D object at 0x7f4409cf6b00> False\n",
            "<keras.layers.normalization.BatchNormalization object at 0x7f4409d2e8d0> False\n",
            "<keras.layers.core.Activation object at 0x7f4409d2e860> False\n",
            "<keras.layers.convolutional.Conv2D object at 0x7f4409da46a0> False\n",
            "<keras.layers.convolutional.Conv2D object at 0x7f4409cb6f60> False\n",
            "<keras.layers.normalization.BatchNormalization object at 0x7f4409dac4a8> False\n",
            "<keras.layers.normalization.BatchNormalization object at 0x7f4409ceef60> False\n",
            "<keras.layers.core.Activation object at 0x7f4409dacd68> False\n",
            "<keras.layers.core.Activation object at 0x7f4409c76f28> False\n",
            "<keras.layers.merge.Concatenate object at 0x7f4409c7da20> False\n",
            "<keras.layers.convolutional.Conv2D object at 0x7f4409c84f98> False\n",
            "<keras.layers.core.Lambda object at 0x7f4409c367f0> False\n",
            "<keras.layers.core.Activation object at 0x7f4409c36780> False\n",
            "<keras.layers.convolutional.Conv2D object at 0x7f4409c4cef0> False\n",
            "<keras.layers.normalization.BatchNormalization object at 0x7f4409c04fd0> False\n",
            "<keras.layers.core.Activation object at 0x7f4409c0cf98> False\n",
            "<keras.layers.convolutional.Conv2D object at 0x7f4409c0cfd0> False\n",
            "<keras.layers.normalization.BatchNormalization object at 0x7f4409bcd668> False\n",
            "<keras.layers.core.Activation object at 0x7f4409bcdbe0> False\n",
            "<keras.layers.convolutional.Conv2D object at 0x7f4409c459e8> False\n",
            "<keras.layers.convolutional.Conv2D object at 0x7f4409bd4fd0> False\n",
            "<keras.layers.normalization.BatchNormalization object at 0x7f4409c4c240> False\n",
            "<keras.layers.normalization.BatchNormalization object at 0x7f4409b8dd30> False\n",
            "<keras.layers.core.Activation object at 0x7f4409c4cd68> False\n",
            "<keras.layers.core.Activation object at 0x7f4409b93da0> False\n",
            "<keras.layers.merge.Concatenate object at 0x7f4409b93ba8> False\n",
            "<keras.layers.convolutional.Conv2D object at 0x7f4409ba2c88> False\n",
            "<keras.layers.core.Lambda object at 0x7f4409b54470> False\n",
            "<keras.layers.core.Activation object at 0x7f4409b54588> False\n",
            "<keras.layers.convolutional.Conv2D object at 0x7f4409b6bf60> False\n",
            "<keras.layers.normalization.BatchNormalization object at 0x7f4409b24cf8> False\n",
            "<keras.layers.core.Activation object at 0x7f4409b2deb8> False\n",
            "<keras.layers.convolutional.Conv2D object at 0x7f4409b2def0> False\n",
            "<keras.layers.normalization.BatchNormalization object at 0x7f4409af0438> False\n",
            "<keras.layers.core.Activation object at 0x7f4409af0978> False\n",
            "<keras.layers.convolutional.Conv2D object at 0x7f4409b64828> False\n",
            "<keras.layers.convolutional.Conv2D object at 0x7f4409a76da0> False\n",
            "<keras.layers.normalization.BatchNormalization object at 0x7f4409b64f98> False\n",
            "<keras.layers.normalization.BatchNormalization object at 0x7f440b45e9e8> False\n",
            "<keras.layers.core.Activation object at 0x7f4409b6bdd8> False\n",
            "<keras.layers.core.Activation object at 0x7f440b45ea58> False\n",
            "<keras.layers.merge.Concatenate object at 0x7f440b450fd0> False\n",
            "<keras.layers.convolutional.Conv2D object at 0x7f4409a9dc18> False\n",
            "<keras.layers.core.Lambda object at 0x7f4409a4f8d0> False\n",
            "<keras.layers.core.Activation object at 0x7f4409a4f1d0> False\n",
            "<keras.layers.convolutional.Conv2D object at 0x7f4409a64c88> False\n",
            "<keras.layers.normalization.BatchNormalization object at 0x7f4409a1dac8> False\n",
            "<keras.layers.core.Activation object at 0x7f4409a1da58> False\n",
            "<keras.layers.convolutional.Conv2D object at 0x7f4409a26e80> False\n",
            "<keras.layers.normalization.BatchNormalization object at 0x7f44099e5128> False\n",
            "<keras.layers.core.Activation object at 0x7f44099e5fd0> False\n",
            "<keras.layers.convolutional.Conv2D object at 0x7f4409a57668> False\n",
            "<keras.layers.convolutional.Conv2D object at 0x7f44099eeac8> False\n",
            "<keras.layers.normalization.BatchNormalization object at 0x7f4409a5dc88> False\n",
            "<keras.layers.normalization.BatchNormalization object at 0x7f44099a5898> False\n",
            "<keras.layers.core.Activation object at 0x7f4409a5df60> False\n",
            "<keras.layers.core.Activation object at 0x7f44099a5828> False\n",
            "<keras.layers.merge.Concatenate object at 0x7f44099aff28> False\n",
            "<keras.layers.convolutional.Conv2D object at 0x7f440993c9b0> False\n",
            "<keras.layers.core.Lambda object at 0x7f4409972be0> False\n",
            "<keras.layers.core.Activation object at 0x7f4409972668> False\n",
            "<keras.layers.convolutional.Conv2D object at 0x7f4409905a58> False\n",
            "<keras.layers.normalization.BatchNormalization object at 0x7f44098bf860> False\n",
            "<keras.layers.core.Activation object at 0x7f44098bfda0> False\n",
            "<keras.layers.convolutional.Conv2D object at 0x7f44098c5ef0> False\n",
            "<keras.layers.normalization.BatchNormalization object at 0x7f4409880dd8> False\n",
            "<keras.layers.core.Activation object at 0x7f4409888e48> False\n",
            "<keras.layers.convolutional.Conv2D object at 0x7f44098f9c88> False\n",
            "<keras.layers.convolutional.Conv2D object at 0x7f4409888f60> False\n",
            "<keras.layers.normalization.BatchNormalization object at 0x7f4409901a58> False\n",
            "<keras.layers.normalization.BatchNormalization object at 0x7f4409846630> False\n",
            "<keras.layers.core.Activation object at 0x7f4409901f60> False\n",
            "<keras.layers.core.Activation object at 0x7f4409846ba8> False\n",
            "<keras.layers.merge.Concatenate object at 0x7f4409850f98> False\n",
            "<keras.layers.convolutional.Conv2D object at 0x7f440985fdd8> False\n",
            "<keras.layers.core.Lambda object at 0x7f44098102b0> False\n",
            "<keras.layers.core.Activation object at 0x7f4409810320> False\n",
            "<keras.layers.convolutional.Conv2D object at 0x7f4409820be0> False\n",
            "<keras.layers.normalization.BatchNormalization object at 0x7f44097df5f8> False\n",
            "<keras.layers.core.Activation object at 0x7f44097dfb70> False\n",
            "<keras.layers.convolutional.Conv2D object at 0x7f44097e6e48> False\n",
            "<keras.layers.normalization.BatchNormalization object at 0x7f44097a0b38> False\n",
            "<keras.layers.core.Activation object at 0x7f44097a0f98> False\n",
            "<keras.layers.convolutional.Conv2D object at 0x7f4409818a20> False\n",
            "<keras.layers.convolutional.Conv2D object at 0x7f44097a9e80> False\n",
            "<keras.layers.normalization.BatchNormalization object at 0x7f44098207f0> False\n",
            "<keras.layers.normalization.BatchNormalization object at 0x7f4409767400> False\n",
            "<keras.layers.core.Activation object at 0x7f4409820dd8> False\n",
            "<keras.layers.core.Activation object at 0x7f4409767940> False\n",
            "<keras.layers.merge.Concatenate object at 0x7f4409770d68> False\n",
            "<keras.layers.convolutional.Conv2D object at 0x7f44096fef60> False\n",
            "<keras.layers.core.Lambda object at 0x7f4409730780> False\n",
            "<keras.layers.core.Activation object at 0x7f4409730080> False\n",
            "<keras.layers.convolutional.Conv2D object at 0x7f44096bfe48> False\n",
            "<keras.layers.normalization.BatchNormalization object at 0x7f440967d3c8> False\n",
            "<keras.layers.core.Activation object at 0x7f440967df28> False\n",
            "<keras.layers.convolutional.Conv2D object at 0x7f4409686be0> False\n",
            "<keras.layers.normalization.BatchNormalization object at 0x7f440963f9b0> False\n",
            "<keras.layers.core.Activation object at 0x7f440963f940> False\n",
            "<keras.layers.convolutional.Conv2D object at 0x7f44096b7780> False\n",
            "<keras.layers.convolutional.Conv2D object at 0x7f4409647eb8> False\n",
            "<keras.layers.normalization.BatchNormalization object at 0x7f44096bf588> False\n",
            "<keras.layers.normalization.BatchNormalization object at 0x7f4409608198> False\n",
            "<keras.layers.core.Activation object at 0x7f44096bfe10> False\n",
            "<keras.layers.core.Activation object at 0x7f4409608f60> False\n",
            "<keras.layers.merge.Concatenate object at 0x7f440960db00> False\n",
            "<keras.layers.convolutional.Conv2D object at 0x7f4409618fd0> False\n",
            "<keras.layers.core.Lambda object at 0x7f44095c88d0> False\n",
            "<keras.layers.core.Activation object at 0x7f44095c8860> False\n",
            "<keras.layers.convolutional.Conv2D object at 0x7f44095dffd0> False\n",
            "<keras.layers.normalization.BatchNormalization object at 0x7f440959d0f0> False\n",
            "<keras.layers.core.Activation object at 0x7f440959df28> False\n",
            "<keras.layers.convolutional.Conv2D object at 0x7f44095a6940> False\n",
            "<keras.layers.normalization.BatchNormalization object at 0x7f4409560748> False\n",
            "<keras.layers.core.Activation object at 0x7f44095606d8> False\n",
            "<keras.layers.convolutional.Conv2D object at 0x7f44095d7518> False\n",
            "<keras.layers.convolutional.Conv2D object at 0x7f4409569f28> False\n",
            "<keras.layers.normalization.BatchNormalization object at 0x7f44095df320> False\n",
            "<keras.layers.normalization.BatchNormalization object at 0x7f4409520e10> False\n",
            "<keras.layers.core.Activation object at 0x7f44095dfe48> False\n",
            "<keras.layers.core.Activation object at 0x7f44095439b0> False\n",
            "<keras.layers.merge.Concatenate object at 0x7f440952ae80> False\n",
            "<keras.layers.convolutional.Conv2D object at 0x7f44094befd0> False\n",
            "<keras.layers.core.Lambda object at 0x7f44094e9550> False\n",
            "<keras.layers.core.Activation object at 0x7f44094e9668> False\n",
            "<keras.layers.convolutional.Conv2D object at 0x7f440947feb8> False\n",
            "<keras.layers.normalization.BatchNormalization object at 0x7f4409437dd8> False\n",
            "<keras.layers.core.Activation object at 0x7f440943eeb8> False\n",
            "<keras.layers.convolutional.Conv2D object at 0x7f440943ef98> False\n",
            "<keras.layers.normalization.BatchNormalization object at 0x7f44094004a8> False\n",
            "<keras.layers.core.Activation object at 0x7f4409400a20> False\n",
            "<keras.layers.convolutional.Conv2D object at 0x7f4409478908> False\n",
            "<keras.layers.convolutional.Conv2D object at 0x7f4409406e48> False\n",
            "<keras.layers.normalization.BatchNormalization object at 0x7f4409478f28> False\n",
            "<keras.layers.normalization.BatchNormalization object at 0x7f44093bdba8> False\n",
            "<keras.layers.core.Activation object at 0x7f440947ffd0> False\n",
            "<keras.layers.core.Activation object at 0x7f44093c6e80> False\n",
            "<keras.layers.merge.Concatenate object at 0x7f44093c6eb8> False\n",
            "<keras.layers.convolutional.Conv2D object at 0x7f44093d6d68> False\n",
            "<keras.layers.core.Lambda object at 0x7f4409386a20> False\n",
            "<keras.layers.core.Activation object at 0x7f4409386320> False\n",
            "<keras.layers.convolutional.Conv2D object at 0x7f44093a1e10> False\n",
            "<keras.layers.normalization.BatchNormalization object at 0x7f4409359b70> False\n",
            "<keras.layers.core.Activation object at 0x7f4409362d68> False\n",
            "<keras.layers.convolutional.Conv2D object at 0x7f4409362fd0> False\n",
            "<keras.layers.normalization.BatchNormalization object at 0x7f44093222b0> False\n",
            "<keras.layers.core.Activation object at 0x7f44093227f0> False\n",
            "<keras.layers.convolutional.Conv2D object at 0x7f4409390d68> False\n",
            "<keras.layers.convolutional.Conv2D object at 0x7f440932ac18> False\n",
            "<keras.layers.normalization.BatchNormalization object at 0x7f4409397e10> False\n",
            "<keras.layers.normalization.BatchNormalization object at 0x7f44092e19b0> False\n",
            "<keras.layers.core.Activation object at 0x7f4409397f28> False\n",
            "<keras.layers.core.Activation object at 0x7f44092e1940> False\n",
            "<keras.layers.merge.Concatenate object at 0x7f44092eceb8> False\n",
            "<keras.layers.convolutional.Conv2D object at 0x7f4409278b00> False\n",
            "<keras.layers.core.Lambda object at 0x7f44092a97b8> False\n",
            "<keras.layers.core.Activation object at 0x7f44092a90b8> False\n",
            "<keras.layers.convolutional.Conv2D object at 0x7f4409240ba8> False\n",
            "<keras.layers.normalization.BatchNormalization object at 0x7f44091f79b0> False\n",
            "<keras.layers.core.Activation object at 0x7f44091f7940> False\n",
            "<keras.layers.convolutional.Conv2D object at 0x7f44091ffef0> False\n",
            "<keras.layers.normalization.BatchNormalization object at 0x7f44091baf60> False\n",
            "<keras.layers.core.Activation object at 0x7f44091c2f98> False\n",
            "<keras.layers.convolutional.Conv2D object at 0x7f44092b3550> False\n",
            "<keras.layers.convolutional.Conv2D object at 0x7f44091c89b0> False\n",
            "<keras.layers.normalization.BatchNormalization object at 0x7f4409238ba8> False\n",
            "<keras.layers.normalization.BatchNormalization object at 0x7f4409181780> False\n",
            "<keras.layers.core.Activation object at 0x7f4409238fd0> False\n",
            "<keras.layers.core.Activation object at 0x7f4409181710> False\n",
            "<keras.layers.merge.Concatenate object at 0x7f440918af60> False\n",
            "<keras.layers.convolutional.Conv2D object at 0x7f4409199f98> False\n",
            "<keras.layers.core.Lambda object at 0x7f440914b438> False\n",
            "<keras.layers.core.Activation object at 0x7f440914b4a8> False\n",
            "<keras.layers.convolutional.Conv2D object at 0x7f4409160940> False\n",
            "<keras.layers.normalization.BatchNormalization object at 0x7f4409118710> False\n",
            "<keras.layers.core.Activation object at 0x7f4409118c50> False\n",
            "<keras.layers.convolutional.Conv2D object at 0x7f4409121f28> False\n",
            "<keras.layers.normalization.BatchNormalization object at 0x7f44090d7cc0> False\n",
            "<keras.layers.core.Activation object at 0x7f44090e3b38> False\n",
            "<keras.layers.convolutional.Conv2D object at 0x7f4409152ba8> False\n",
            "<keras.layers.convolutional.Conv2D object at 0x7f44090e3ef0> False\n",
            "<keras.layers.normalization.BatchNormalization object at 0x7f440915a940> False\n",
            "<keras.layers.normalization.BatchNormalization object at 0x7f44090a1518> False\n",
            "<keras.layers.core.Activation object at 0x7f440915af28> False\n",
            "<keras.layers.core.Activation object at 0x7f44090a1a90> False\n",
            "<keras.layers.merge.Concatenate object at 0x7f44090aceb8> False\n",
            "<keras.layers.convolutional.Conv2D object at 0x7f4409039cc0> False\n",
            "<keras.layers.core.Lambda object at 0x7f440906b1d0> False\n",
            "<keras.layers.core.Activation object at 0x7f440906b240> False\n",
            "<keras.layers.convolutional.Conv2D object at 0x7f4408ff9f98> False\n",
            "<keras.layers.normalization.BatchNormalization object at 0x7f4408fb84e0> False\n",
            "<keras.layers.core.Activation object at 0x7f4408fb8f60> False\n",
            "<keras.layers.convolutional.Conv2D object at 0x7f4408fc0d30> False\n",
            "<keras.layers.normalization.BatchNormalization object at 0x7f4408f78b00> False\n",
            "<keras.layers.core.Activation object at 0x7f4408f78a90> False\n",
            "<keras.layers.convolutional.Conv2D object at 0x7f4409072940> False\n",
            "<keras.layers.convolutional.Conv2D object at 0x7f4408f81da0> False\n",
            "<keras.layers.normalization.BatchNormalization object at 0x7f4408ff96d8> False\n",
            "<keras.layers.normalization.BatchNormalization object at 0x7f4408f422e8> False\n",
            "<keras.layers.core.Activation object at 0x7f4408ff9f60> False\n",
            "<keras.layers.core.Activation object at 0x7f4408f42828> False\n",
            "<keras.layers.merge.Concatenate object at 0x7f4408f44c50> False\n",
            "<keras.layers.convolutional.Conv2D object at 0x7f4408f58f60> False\n",
            "<keras.layers.core.Lambda object at 0x7f4408f02f60> False\n",
            "<keras.layers.core.Activation object at 0x7f4408f09630> False\n",
            "<keras.layers.convolutional.Conv2D object at 0x7f4408f1af98> False\n",
            "<keras.layers.normalization.BatchNormalization object at 0x7f4408ed92b0> False\n",
            "<keras.layers.core.Activation object at 0x7f4408ed9fd0> False\n",
            "<keras.layers.convolutional.Conv2D object at 0x7f4408edcac8> False\n",
            "<keras.layers.normalization.BatchNormalization object at 0x7f4408e97860> False\n",
            "<keras.layers.core.Activation object at 0x7f4408e977f0> False\n",
            "<keras.layers.convolutional.Conv2D object at 0x7f4408f12630> False\n",
            "<keras.layers.convolutional.Conv2D object at 0x7f4408ea4ef0> False\n",
            "<keras.layers.normalization.BatchNormalization object at 0x7f4408f1a470> False\n",
            "<keras.layers.normalization.BatchNormalization object at 0x7f4408e59fd0> False\n",
            "<keras.layers.core.Activation object at 0x7f4408f1ad30> False\n",
            "<keras.layers.core.Activation object at 0x7f4408e61fd0> False\n",
            "<keras.layers.merge.Concatenate object at 0x7f4408e6c9e8> False\n",
            "<keras.layers.convolutional.Conv2D object at 0x7f4408e72f60> False\n",
            "<keras.layers.core.Lambda object at 0x7f4408e227b8> False\n",
            "<keras.layers.core.Activation object at 0x7f4408e22748> False\n",
            "<keras.layers.convolutional.Conv2D object at 0x7f4408dbaeb8> False\n",
            "<keras.layers.normalization.BatchNormalization object at 0x7f4408d74f60> False\n",
            "<keras.layers.core.Activation object at 0x7f4408d79e48> False\n",
            "<keras.layers.convolutional.Conv2D object at 0x7f4408d79f60> False\n",
            "<keras.layers.normalization.BatchNormalization object at 0x7f4408d3d630> False\n",
            "<keras.layers.core.Activation object at 0x7f4408d3dba8> False\n",
            "<keras.layers.convolutional.Conv2D object at 0x7f4408e339b0> False\n",
            "<keras.layers.convolutional.Conv2D object at 0x7f4408d42f98> False\n",
            "<keras.layers.normalization.BatchNormalization object at 0x7f4408e33fd0> False\n",
            "<keras.layers.normalization.BatchNormalization object at 0x7f4408cfacf8> False\n",
            "<keras.layers.core.Activation object at 0x7f4408ea8198> False\n",
            "<keras.layers.core.Activation object at 0x7f4408d04d68> False\n",
            "<keras.layers.merge.Concatenate object at 0x7f4408d04b70> False\n",
            "<keras.layers.convolutional.Conv2D object at 0x7f4408d18fd0> False\n",
            "<keras.layers.core.Lambda object at 0x7f4408cc3470> False\n",
            "<keras.layers.core.Activation object at 0x7f4408cc3438> False\n",
            "<keras.layers.convolutional.Conv2D object at 0x7f4408cdada0> False\n",
            "<keras.layers.normalization.BatchNormalization object at 0x7f4408c92cc0> False\n",
            "<keras.layers.core.Activation object at 0x7f4408c9ae80> False\n",
            "<keras.layers.convolutional.Conv2D object at 0x7f4408c9aeb8> False\n",
            "<keras.layers.normalization.BatchNormalization object at 0x7f4408c59400> False\n",
            "<keras.layers.core.Activation object at 0x7f4408c59940> False\n",
            "<keras.layers.convolutional.Conv2D object at 0x7f4408cd47f0> False\n",
            "<keras.layers.convolutional.Conv2D object at 0x7f4408c5fd68> False\n",
            "<keras.layers.normalization.BatchNormalization object at 0x7f4408cd4f60> False\n",
            "<keras.layers.normalization.BatchNormalization object at 0x7f4408c1ab38> False\n",
            "<keras.layers.core.Activation object at 0x7f4408cdaf98> False\n",
            "<keras.layers.core.Activation object at 0x7f4408c1aac8> False\n",
            "<keras.layers.merge.Concatenate object at 0x7f4408c25dd8> False\n",
            "<keras.layers.convolutional.Conv2D object at 0x7f4408c31c50> False\n",
            "<keras.layers.core.Lambda object at 0x7f4408be5908> False\n",
            "<keras.layers.core.Activation object at 0x7f4408be5208> False\n",
            "<keras.layers.convolutional.Conv2D object at 0x7f4408b7dcf8> False\n",
            "<keras.layers.normalization.BatchNormalization object at 0x7f4408b34b00> False\n",
            "<keras.layers.core.Activation object at 0x7f4408b34a90> False\n",
            "<keras.layers.convolutional.Conv2D object at 0x7f4408b3deb8> False\n",
            "<keras.layers.normalization.BatchNormalization object at 0x7f4408afd198> False\n",
            "<keras.layers.core.Activation object at 0x7f4408afdf60> False\n",
            "<keras.layers.convolutional.Conv2D object at 0x7f4408bf0ac8> False\n",
            "<keras.layers.convolutional.Conv2D object at 0x7f4408b03b00> False\n",
            "<keras.layers.normalization.BatchNormalization object at 0x7f4408b75cf8> False\n",
            "<keras.layers.normalization.BatchNormalization object at 0x7f4408aba8d0> False\n",
            "<keras.layers.core.Activation object at 0x7f4408b75fd0> False\n",
            "<keras.layers.core.Activation object at 0x7f4408aba860> False\n",
            "<keras.layers.merge.Concatenate object at 0x7f4408ac4f60> False\n",
            "<keras.layers.convolutional.Conv2D object at 0x7f4408ad19e8> False\n",
            "<keras.layers.core.Lambda object at 0x7f4408a83588> False\n",
            "<keras.layers.core.Activation object at 0x7f4408a835f8> False\n",
            "<keras.layers.convolutional.Conv2D object at 0x7f4408a9aa90> False\n",
            "<keras.layers.normalization.BatchNormalization object at 0x7f4408a52898> False\n",
            "<keras.layers.core.Activation object at 0x7f4408a52e48> False\n",
            "<keras.layers.convolutional.Conv2D object at 0x7f4408a5cda0> False\n",
            "<keras.layers.normalization.BatchNormalization object at 0x7f4408a15e10> False\n",
            "<keras.layers.core.Activation object at 0x7f4408a1cf98> False\n",
            "<keras.layers.convolutional.Conv2D object at 0x7f4408a8ccc0> False\n",
            "<keras.layers.convolutional.Conv2D object at 0x7f4408a1cfd0> False\n",
            "<keras.layers.normalization.BatchNormalization object at 0x7f4408a95a90> False\n",
            "<keras.layers.normalization.BatchNormalization object at 0x7f44089dc668> False\n",
            "<keras.layers.core.Activation object at 0x7f4408a95f98> False\n",
            "<keras.layers.core.Activation object at 0x7f44089dcbe0> False\n",
            "<keras.layers.merge.Concatenate object at 0x7f44089e4fd0> False\n",
            "<keras.layers.convolutional.Conv2D object at 0x7f44089f2e10> False\n",
            "<keras.layers.core.Lambda object at 0x7f44089a4320> False\n",
            "<keras.layers.core.Activation object at 0x7f44089a4390> False\n",
            "<keras.layers.convolutional.Conv2D object at 0x7f4408885da0> False\n",
            "<keras.layers.normalization.BatchNormalization object at 0x7f440883db70> False\n",
            "<keras.layers.core.Activation object at 0x7f440883db00> False\n",
            "<keras.layers.convolutional.Conv2D object at 0x7f44089aca90> False\n",
            "<keras.layers.convolutional.Conv2D object at 0x7f44088fcf60> False\n",
            "<keras.layers.convolutional.Conv2D object at 0x7f4408845f28> False\n",
            "<keras.layers.normalization.BatchNormalization object at 0x7f44089b1828> False\n",
            "<keras.layers.normalization.BatchNormalization object at 0x7f4408932cf8> False\n",
            "<keras.layers.normalization.BatchNormalization object at 0x7f44088041d0> False\n",
            "<keras.layers.core.Activation object at 0x7f44089b1e10> False\n",
            "<keras.layers.core.Activation object at 0x7f44088bbeb8> False\n",
            "<keras.layers.core.Activation object at 0x7f4408804f98> False\n",
            "<keras.layers.convolutional.Conv2D object at 0x7f44089b1c18> False\n",
            "<keras.layers.convolutional.Conv2D object at 0x7f44088bbef0> False\n",
            "<keras.layers.convolutional.Conv2D object at 0x7f440880db38> False\n",
            "<keras.layers.normalization.BatchNormalization object at 0x7f4408973630> False\n",
            "<keras.layers.normalization.BatchNormalization object at 0x7f440887c438> False\n",
            "<keras.layers.normalization.BatchNormalization object at 0x7f44087c6940> False\n",
            "<keras.layers.core.Activation object at 0x7f4408973b70> False\n",
            "<keras.layers.core.Activation object at 0x7f440887c978> False\n",
            "<keras.layers.core.Activation object at 0x7f44087c68d0> False\n",
            "<keras.layers.pooling.MaxPooling2D object at 0x7f44087cefd0> False\n",
            "<keras.layers.merge.Concatenate object at 0x7f44087ece80> False\n",
            "<keras.layers.convolutional.Conv2D object at 0x7f4408796f60> False\n",
            "<keras.layers.normalization.BatchNormalization object at 0x7f4408751cc0> False\n",
            "<keras.layers.core.Activation object at 0x7f4408757e80> False\n",
            "<keras.layers.convolutional.Conv2D object at 0x7f4408757eb8> False\n",
            "<keras.layers.normalization.BatchNormalization object at 0x7f4408718400> False\n",
            "<keras.layers.core.Activation object at 0x7f4408718940> False\n",
            "<keras.layers.convolutional.Conv2D object at 0x7f440877ffd0> False\n",
            "<keras.layers.convolutional.Conv2D object at 0x7f4408722d68> False\n",
            "<keras.layers.normalization.BatchNormalization object at 0x7f440878deb8> False\n",
            "<keras.layers.normalization.BatchNormalization object at 0x7f44086d8b38> False\n",
            "<keras.layers.core.Activation object at 0x7f440878df28> False\n",
            "<keras.layers.core.Activation object at 0x7f44086d8ac8> False\n",
            "<keras.layers.merge.Concatenate object at 0x7f44086f0c50> False\n",
            "<keras.layers.convolutional.Conv2D object at 0x7f44086e1dd8> False\n",
            "<keras.layers.core.Lambda object at 0x7f440869f908> False\n",
            "<keras.layers.core.Activation object at 0x7f440869f208> False\n",
            "<keras.layers.convolutional.Conv2D object at 0x7f4408637cf8> False\n",
            "<keras.layers.normalization.BatchNormalization object at 0x7f4408671b00> False\n",
            "<keras.layers.core.Activation object at 0x7f4408671a90> False\n",
            "<keras.layers.convolutional.Conv2D object at 0x7f44085f6eb8> False\n",
            "<keras.layers.normalization.BatchNormalization object at 0x7f44085b8198> False\n",
            "<keras.layers.core.Activation object at 0x7f44085b8f60> False\n",
            "<keras.layers.convolutional.Conv2D object at 0x7f44086a8ac8> False\n",
            "<keras.layers.convolutional.Conv2D object at 0x7f44085c1b00> False\n",
            "<keras.layers.normalization.BatchNormalization object at 0x7f44086aecf8> False\n",
            "<keras.layers.normalization.BatchNormalization object at 0x7f44085798d0> False\n",
            "<keras.layers.core.Activation object at 0x7f44086aefd0> False\n",
            "<keras.layers.core.Activation object at 0x7f4408579860> False\n",
            "<keras.layers.merge.Concatenate object at 0x7f44085909e8> False\n",
            "<keras.layers.convolutional.Conv2D object at 0x7f4408583f60> False\n",
            "<keras.layers.core.Lambda object at 0x7f4408541588> False\n",
            "<keras.layers.core.Activation object at 0x7f44085415f8> False\n",
            "<keras.layers.convolutional.Conv2D object at 0x7f4408556a90> False\n",
            "<keras.layers.normalization.BatchNormalization object at 0x7f440850f898> False\n",
            "<keras.layers.core.Activation object at 0x7f440850fe48> False\n",
            "<keras.layers.convolutional.Conv2D object at 0x7f4408519f28> False\n",
            "<keras.layers.normalization.BatchNormalization object at 0x7f44084cfe10> False\n",
            "<keras.layers.core.Activation object at 0x7f44084d7f98> False\n",
            "<keras.layers.convolutional.Conv2D object at 0x7f440854acf8> False\n",
            "<keras.layers.convolutional.Conv2D object at 0x7f44084d7fd0> False\n",
            "<keras.layers.normalization.BatchNormalization object at 0x7f4408551a90> False\n",
            "<keras.layers.normalization.BatchNormalization object at 0x7f4408499668> False\n",
            "<keras.layers.core.Activation object at 0x7f4408551f98> False\n",
            "<keras.layers.core.Activation object at 0x7f4408499be0> False\n",
            "<keras.layers.merge.Concatenate object at 0x7f44084afe10> False\n",
            "<keras.layers.convolutional.Conv2D object at 0x7f44084a1fd0> False\n",
            "<keras.layers.core.Lambda object at 0x7f44084602e8> False\n",
            "<keras.layers.core.Activation object at 0x7f4408460358> False\n",
            "<keras.layers.convolutional.Conv2D object at 0x7f4408470be0> False\n",
            "<keras.layers.normalization.BatchNormalization object at 0x7f4408432630> False\n",
            "<keras.layers.core.Activation object at 0x7f4408432ba8> False\n",
            "<keras.layers.convolutional.Conv2D object at 0x7f44083bae80> False\n",
            "<keras.layers.normalization.BatchNormalization object at 0x7f44083f0ba8> False\n",
            "<keras.layers.core.Activation object at 0x7f440837aeb8> False\n",
            "<keras.layers.convolutional.Conv2D object at 0x7f4408466a58> False\n",
            "<keras.layers.convolutional.Conv2D object at 0x7f440837aef0> False\n",
            "<keras.layers.normalization.BatchNormalization object at 0x7f44084707f0> False\n",
            "<keras.layers.normalization.BatchNormalization object at 0x7f4408339438> False\n",
            "<keras.layers.core.Activation object at 0x7f4408470dd8> False\n",
            "<keras.layers.core.Activation object at 0x7f4408339978> False\n",
            "<keras.layers.merge.Concatenate object at 0x7f440834df98> False\n",
            "<keras.layers.convolutional.Conv2D object at 0x7f4408342da0> False\n",
            "<keras.layers.core.Lambda object at 0x7f44083007b8> False\n",
            "<keras.layers.core.Activation object at 0x7f44083000b8> False\n",
            "<keras.layers.convolutional.Conv2D object at 0x7f4408310e80> False\n",
            "<keras.layers.normalization.BatchNormalization object at 0x7f44082d0400> False\n",
            "<keras.layers.core.Activation object at 0x7f44082d0e48> False\n",
            "<keras.layers.convolutional.Conv2D object at 0x7f44082d8be0> False\n",
            "<keras.layers.normalization.BatchNormalization object at 0x7f440828f9e8> False\n",
            "<keras.layers.core.Activation object at 0x7f440828f978> False\n",
            "<keras.layers.convolutional.Conv2D object at 0x7f44083097b8> False\n",
            "<keras.layers.convolutional.Conv2D object at 0x7f4408299ef0> False\n",
            "<keras.layers.normalization.BatchNormalization object at 0x7f44083105c0> False\n",
            "<keras.layers.normalization.BatchNormalization object at 0x7f44082591d0> False\n",
            "<keras.layers.core.Activation object at 0x7f4408310e48> False\n",
            "<keras.layers.core.Activation object at 0x7f4408259f98> False\n",
            "<keras.layers.merge.Concatenate object at 0x7f4408269fd0> False\n",
            "<keras.layers.convolutional.Conv2D object at 0x7f4408263b38> False\n",
            "<keras.layers.core.Lambda object at 0x7f4408219908> False\n",
            "<keras.layers.core.Activation object at 0x7f4408219898> False\n",
            "<keras.layers.convolutional.Conv2D object at 0x7f4408231e80> False\n",
            "<keras.layers.normalization.BatchNormalization object at 0x7f44081f1198> False\n",
            "<keras.layers.core.Activation object at 0x7f44081f1f98> False\n",
            "<keras.layers.convolutional.Conv2D object at 0x7f440817b9b0> False\n",
            "<keras.layers.normalization.BatchNormalization object at 0x7f44081b1780> False\n",
            "<keras.layers.core.Activation object at 0x7f44081b1710> False\n",
            "<keras.layers.convolutional.Conv2D object at 0x7f440822b550> False\n",
            "<keras.layers.convolutional.Conv2D object at 0x7f440813cf60> False\n",
            "<keras.layers.normalization.BatchNormalization object at 0x7f4408231358> False\n",
            "<keras.layers.normalization.BatchNormalization object at 0x7f4408172e48> False\n",
            "<keras.layers.core.Activation object at 0x7f4408231c18> False\n",
            "<keras.layers.core.Activation object at 0x7f44080fbfd0> False\n",
            "<keras.layers.merge.Concatenate object at 0x7f440810ffd0> False\n",
            "<keras.layers.convolutional.Conv2D object at 0x7f44081e25f8> False\n",
            "<keras.layers.core.Lambda object at 0x7f44080bb588> False\n",
            "<keras.layers.core.Activation object at 0x7f44080bb6a0> False\n",
            "<keras.layers.convolutional.Conv2D object at 0x7f44080d2ef0> False\n",
            "<keras.layers.normalization.BatchNormalization object at 0x7f440807fe10> False\n",
            "<keras.layers.core.Activation object at 0x7f4408090438> False\n",
            "<keras.layers.convolutional.Conv2D object at 0x7f4408090ef0> False\n",
            "<keras.layers.normalization.BatchNormalization object at 0x7f4408051518> False\n",
            "<keras.layers.core.Activation object at 0x7f4408051a90> False\n",
            "<keras.layers.convolutional.Conv2D object at 0x7f44080ca898> False\n",
            "<keras.layers.convolutional.Conv2D object at 0x7f4408059eb8> False\n",
            "<keras.layers.normalization.BatchNormalization object at 0x7f44080caf60> False\n",
            "<keras.layers.normalization.BatchNormalization object at 0x7f4408011be0> False\n",
            "<keras.layers.core.Activation object at 0x7f44080d2da0> False\n",
            "<keras.layers.core.Activation object at 0x7f4408019ef0> False\n",
            "<keras.layers.merge.Concatenate object at 0x7f440802ada0> False\n",
            "<keras.layers.convolutional.Conv2D object at 0x7f4408019f28> False\n",
            "<keras.layers.core.Lambda object at 0x7f4407fdaa58> False\n",
            "<keras.layers.core.Activation object at 0x7f4407fda358> False\n",
            "<keras.layers.convolutional.Conv2D object at 0x7f4407ff3e48> False\n",
            "<keras.layers.normalization.BatchNormalization object at 0x7f4407fa9ba8> False\n",
            "<keras.layers.core.Activation object at 0x7f4407fb2d68> False\n",
            "<keras.layers.convolutional.Conv2D object at 0x7f4407fb2da0> False\n",
            "<keras.layers.normalization.BatchNormalization object at 0x7f4407f702e8> False\n",
            "<keras.layers.core.Activation object at 0x7f4407f707f0> False\n",
            "<keras.layers.convolutional.Conv2D object at 0x7f4407fe4e10> False\n",
            "<keras.layers.convolutional.Conv2D object at 0x7f4407ef5c18> False\n",
            "<keras.layers.normalization.BatchNormalization object at 0x7f4407febe48> False\n",
            "<keras.layers.normalization.BatchNormalization object at 0x7f4407f31a20> False\n",
            "<keras.layers.core.Activation object at 0x7f4407febf60> False\n",
            "<keras.layers.core.Activation object at 0x7f4407f319b0> False\n",
            "<keras.layers.merge.Concatenate object at 0x7f4407ecab38> False\n",
            "<keras.layers.convolutional.Conv2D object at 0x7f4407ebaf28> False\n",
            "<keras.layers.core.Lambda object at 0x7f4407e7a7f0> False\n",
            "<keras.layers.core.Activation object at 0x7f4407e7a0f0> False\n",
            "<keras.layers.convolutional.Conv2D object at 0x7f4407e90320> False\n",
            "<keras.layers.normalization.BatchNormalization object at 0x7f4407e499e8> False\n",
            "<keras.layers.core.Activation object at 0x7f4407e49978> False\n",
            "<keras.layers.convolutional.Conv2D object at 0x7f4407e52f28> False\n",
            "<keras.layers.normalization.BatchNormalization object at 0x7f4407e0bfd0> False\n",
            "<keras.layers.core.Activation object at 0x7f4407e11fd0> False\n",
            "<keras.layers.convolutional.Conv2D object at 0x7f4407e83588> False\n",
            "<keras.layers.convolutional.Conv2D object at 0x7f4407e1a9e8> False\n",
            "<keras.layers.normalization.BatchNormalization object at 0x7f4407f16d68> False\n",
            "<keras.layers.normalization.BatchNormalization object at 0x7f4407dd2780> False\n",
            "<keras.layers.core.Activation object at 0x7f4407e8aeb8> False\n",
            "<keras.layers.core.Activation object at 0x7f4407dd2710> False\n",
            "<keras.layers.merge.Concatenate object at 0x7f4407dea8d0> False\n",
            "<keras.layers.convolutional.Conv2D object at 0x7f4407ddbe10> False\n",
            "<keras.layers.core.Lambda object at 0x7f4407d9b470> False\n",
            "<keras.layers.core.Activation object at 0x7f4407d9b4e0> False\n",
            "<keras.layers.convolutional.Conv2D object at 0x7f4407db0978> False\n",
            "<keras.layers.normalization.BatchNormalization object at 0x7f4407d67780> False\n",
            "<keras.layers.core.Activation object at 0x7f4407d67cc0> False\n",
            "<keras.layers.convolutional.Conv2D object at 0x7f4407d72f98> False\n",
            "<keras.layers.normalization.BatchNormalization object at 0x7f4407d2acf8> False\n",
            "<keras.layers.core.Activation object at 0x7f4407d33d68> False\n",
            "<keras.layers.convolutional.Conv2D object at 0x7f4407da1be0> False\n",
            "<keras.layers.convolutional.Conv2D object at 0x7f4407d33b70> False\n",
            "<keras.layers.normalization.BatchNormalization object at 0x7f4407da9978> False\n",
            "<keras.layers.normalization.BatchNormalization object at 0x7f4407cf1550> False\n",
            "<keras.layers.core.Activation object at 0x7f4407da9f60> False\n",
            "<keras.layers.core.Activation object at 0x7f4407cf1ac8> False\n",
            "<keras.layers.merge.Concatenate object at 0x7f4407c87cf8> False\n",
            "<keras.layers.convolutional.Conv2D object at 0x7f4407c7bd30> True\n",
            "<keras.layers.core.Lambda object at 0x7f4407c3c1d0> True\n",
            "<keras.layers.convolutional.Conv2D object at 0x7f4407c3c240> True\n",
            "<keras.layers.normalization.BatchNormalization object at 0x7f4407c4b470> True\n",
            "<keras.layers.core.Activation object at 0x7f4407c4be10> True\n"
          ],
          "name": "stdout"
        }
      ]
    },
    {
      "cell_type": "code",
      "metadata": {
        "id": "e-uhgcvj8U-M",
        "colab_type": "code",
        "colab": {}
      },
      "source": [
        "### Ran only InceptionResNetV2 stacked model\n",
        "clf_model = Sequential()\n",
        " \n",
        "# Add the vgg convolutional base model\n",
        "#clf_model.add(Flatten(input_shape=bottleneck_features_train.shape[1:]))\n",
        "clf_model.add(conv_base)\n",
        "# Add new layers\n",
        "clf_model.add(Flatten())\n",
        "clf_model.add(Dense(1024, activation='relu'))\n",
        "clf_model.add(Dropout(0.5))\n",
        "clf_model.add(Dense(num_classes, activation='softmax'))"
      ],
      "execution_count": 0,
      "outputs": []
    },
    {
      "cell_type": "code",
      "metadata": {
        "id": "oxW9dYWy89T_",
        "colab_type": "code",
        "colab": {
          "base_uri": "https://localhost:8080/",
          "height": 867
        },
        "outputId": "656bc413-f422-4e9d-f2a3-3f39337dec6a"
      },
      "source": [
        "batch_size = 128\n",
        "epochs = 25\n",
        "lrate = 0.1\n",
        "epsilon=1e-08\n",
        "decay=1e-4\n",
        "optimizer = keras.optimizers.Adadelta(lr=lrate ) \n",
        "clf_model.compile(loss='categorical_crossentropy', optimizer=optimizer, metrics=['accuracy'])\n",
        "history = clf_model.fit(X_train_rgb, y_train, batch_size=batch_size, epochs=epochs, verbose=1)"
      ],
      "execution_count": 130,
      "outputs": [
        {
          "output_type": "stream",
          "text": [
            "Epoch 1/25\n",
            "50000/50000 [==============================] - 213s 4ms/step - loss: 1.8068 - acc: 0.3270\n",
            "Epoch 2/25\n",
            "50000/50000 [==============================] - 180s 4ms/step - loss: 1.6114 - acc: 0.4016\n",
            "Epoch 3/25\n",
            "50000/50000 [==============================] - 180s 4ms/step - loss: 1.5188 - acc: 0.4434\n",
            "Epoch 4/25\n",
            "50000/50000 [==============================] - 180s 4ms/step - loss: 1.4453 - acc: 0.4715\n",
            "Epoch 5/25\n",
            "50000/50000 [==============================] - 180s 4ms/step - loss: 1.3754 - acc: 0.4970\n",
            "Epoch 6/25\n",
            "50000/50000 [==============================] - 180s 4ms/step - loss: 1.3121 - acc: 0.5220\n",
            "Epoch 7/25\n",
            "50000/50000 [==============================] - 180s 4ms/step - loss: 1.2464 - acc: 0.5475\n",
            "Epoch 8/25\n",
            "50000/50000 [==============================] - 180s 4ms/step - loss: 1.1715 - acc: 0.5758\n",
            "Epoch 9/25\n",
            "50000/50000 [==============================] - 180s 4ms/step - loss: 1.1023 - acc: 0.6017\n",
            "Epoch 10/25\n",
            "50000/50000 [==============================] - 180s 4ms/step - loss: 1.0240 - acc: 0.6306\n",
            "Epoch 11/25\n",
            "50000/50000 [==============================] - 180s 4ms/step - loss: 0.9500 - acc: 0.6602\n",
            "Epoch 12/25\n",
            "50000/50000 [==============================] - 180s 4ms/step - loss: 0.8690 - acc: 0.6893\n",
            "Epoch 13/25\n",
            "50000/50000 [==============================] - 181s 4ms/step - loss: 0.7998 - acc: 0.7159\n",
            "Epoch 14/25\n",
            "50000/50000 [==============================] - 180s 4ms/step - loss: 0.7206 - acc: 0.7459\n",
            "Epoch 15/25\n",
            "50000/50000 [==============================] - 180s 4ms/step - loss: 0.6605 - acc: 0.7686\n",
            "Epoch 16/25\n",
            "50000/50000 [==============================] - 180s 4ms/step - loss: 0.5948 - acc: 0.7920\n",
            "Epoch 17/25\n",
            "50000/50000 [==============================] - 180s 4ms/step - loss: 0.5392 - acc: 0.8129\n",
            "Epoch 18/25\n",
            "50000/50000 [==============================] - 180s 4ms/step - loss: 0.4869 - acc: 0.8318\n",
            "Epoch 19/25\n",
            "50000/50000 [==============================] - 180s 4ms/step - loss: 0.4439 - acc: 0.8463\n",
            "Epoch 20/25\n",
            "50000/50000 [==============================] - 180s 4ms/step - loss: 0.4101 - acc: 0.8598\n",
            "Epoch 21/25\n",
            "50000/50000 [==============================] - 180s 4ms/step - loss: 0.3738 - acc: 0.8728\n",
            "Epoch 22/25\n",
            "50000/50000 [==============================] - 180s 4ms/step - loss: 0.3416 - acc: 0.8848\n",
            "Epoch 23/25\n",
            "50000/50000 [==============================] - 180s 4ms/step - loss: 0.3201 - acc: 0.8907\n",
            "Epoch 24/25\n",
            "50000/50000 [==============================] - 180s 4ms/step - loss: 0.2984 - acc: 0.8984\n",
            "Epoch 25/25\n",
            "50000/50000 [==============================] - 179s 4ms/step - loss: 0.2802 - acc: 0.9058\n"
          ],
          "name": "stdout"
        }
      ]
    },
    {
      "cell_type": "code",
      "metadata": {
        "id": "GUCSHR9eCSdR",
        "colab_type": "code",
        "colab": {
          "base_uri": "https://localhost:8080/",
          "height": 68
        },
        "outputId": "f59857ae-57a9-44ba-b628-51a7061b4e5a"
      },
      "source": [
        "pred = clf_model.predict(X_test_rgb, verbose=1)\n",
        "pred_class = np.argmax(pred,axis=1)\n",
        "print(pred_class[:40])"
      ],
      "execution_count": 131,
      "outputs": [
        {
          "output_type": "stream",
          "text": [
            "10000/10000 [==============================] - 68s 7ms/step\n",
            "[9 9 9 9 9 9 9 6 9 9 9 9 9 9 9 6 9 9 9 9 9 9 9 9 9 9 9 9 9 9 9 9 9 9 6 9 9\n",
            " 9 9 9]\n"
          ],
          "name": "stdout"
        }
      ]
    },
    {
      "cell_type": "code",
      "metadata": {
        "id": "37afCC2QClbM",
        "colab_type": "code",
        "colab": {}
      },
      "source": [
        "test_preds = pd.DataFrame()\n",
        "test_preds['Id'] = range(10000)\n",
        "test_preds['Label'] = pred_class\n",
        "print(test_preds.head(20))"
      ],
      "execution_count": 0,
      "outputs": []
    },
    {
      "cell_type": "code",
      "metadata": {
        "id": "3rJOWQ3VCmZ6",
        "colab_type": "code",
        "colab": {}
      },
      "source": [
        "test_preds.to_csv(\"test.csv\", index=False)\n",
        "from google.colab import files\n",
        "\n",
        "files.download(\"test.csv\")\n",
        "################# Model 4 ends ################"
      ],
      "execution_count": 0,
      "outputs": []
    }
  ]
}